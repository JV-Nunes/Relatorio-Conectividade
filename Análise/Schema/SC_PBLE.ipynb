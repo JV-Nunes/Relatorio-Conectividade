{
 "cells": [
  {
   "cell_type": "code",
   "execution_count": 22,
   "metadata": {},
   "outputs": [],
   "source": [
    "import pandas as pd\n",
    "import numpy as np"
   ]
  },
  {
   "cell_type": "code",
   "execution_count": 2,
   "metadata": {},
   "outputs": [],
   "source": [
    "pble = pd.read_csv('../../Dados/PBLE/PBLE.csv', encoding='latin-1', sep=';')"
   ]
  },
  {
   "cell_type": "code",
   "execution_count": 3,
   "metadata": {},
   "outputs": [],
   "source": [
    "# removendo linha com dados inválidos\n",
    "pble.drop(27192, inplace=True)\n",
    "\n",
    "pble['Ano_Ativacao'] = pble['Data de Ativação'].apply(lambda x: int(x[6:]))"
   ]
  },
  {
   "cell_type": "code",
   "execution_count": 4,
   "metadata": {},
   "outputs": [],
   "source": [
    "pble=pble[pble['Ano_Ativacao']>=2018].sort_values(by='Ano_Ativacao')"
   ]
  },
  {
   "cell_type": "code",
   "execution_count": 5,
   "metadata": {},
   "outputs": [
    {
     "data": {
      "text/html": [
       "<div>\n",
       "<style scoped>\n",
       "    .dataframe tbody tr th:only-of-type {\n",
       "        vertical-align: middle;\n",
       "    }\n",
       "\n",
       "    .dataframe tbody tr th {\n",
       "        vertical-align: top;\n",
       "    }\n",
       "\n",
       "    .dataframe thead th {\n",
       "        text-align: right;\n",
       "    }\n",
       "</style>\n",
       "<table border=\"1\" class=\"dataframe\">\n",
       "  <thead>\n",
       "    <tr style=\"text-align: right;\">\n",
       "      <th></th>\n",
       "      <th>Prestadora</th>\n",
       "      <th>Nº INEP</th>\n",
       "      <th>UF</th>\n",
       "      <th>Municipio</th>\n",
       "      <th>Situação</th>\n",
       "      <th>Tipo de Obrigação</th>\n",
       "      <th>Velocidade de Acesso Instalada</th>\n",
       "      <th>Tecnologia</th>\n",
       "      <th>Nome da Escola</th>\n",
       "      <th>Tipo Escola</th>\n",
       "      <th>Data de Ativação</th>\n",
       "      <th>Mes</th>\n",
       "      <th>Ano</th>\n",
       "      <th>Ano_Ativacao</th>\n",
       "    </tr>\n",
       "  </thead>\n",
       "  <tbody>\n",
       "    <tr>\n",
       "      <th>51271</th>\n",
       "      <td>TELEFÔNICA</td>\n",
       "      <td>35205187[*]</td>\n",
       "      <td>SP</td>\n",
       "      <td>Campinas</td>\n",
       "      <td>Instalada</td>\n",
       "      <td>PBLE                                          ...</td>\n",
       "      <td>10 Mbps</td>\n",
       "      <td>ADSL</td>\n",
       "      <td>JOAO VIALTA CEI</td>\n",
       "      <td>Municipal</td>\n",
       "      <td>15/10/2018</td>\n",
       "      <td>3</td>\n",
       "      <td>2022</td>\n",
       "      <td>2018</td>\n",
       "    </tr>\n",
       "    <tr>\n",
       "      <th>19850</th>\n",
       "      <td>TELEFÔNICA</td>\n",
       "      <td>35910284</td>\n",
       "      <td>SP</td>\n",
       "      <td>São Paulo</td>\n",
       "      <td>Instalada</td>\n",
       "      <td>PBLE                                          ...</td>\n",
       "      <td>2 Mbps</td>\n",
       "      <td>DEDICADO</td>\n",
       "      <td>SERGIO PAULO MUNIZ PIMENTA CAPITAO</td>\n",
       "      <td>Estadual</td>\n",
       "      <td>22/03/2018</td>\n",
       "      <td>3</td>\n",
       "      <td>2022</td>\n",
       "      <td>2018</td>\n",
       "    </tr>\n",
       "    <tr>\n",
       "      <th>19855</th>\n",
       "      <td>TELEFÔNICA</td>\n",
       "      <td>35037497</td>\n",
       "      <td>SP</td>\n",
       "      <td>Guarulhos</td>\n",
       "      <td>Instalada</td>\n",
       "      <td>PBLE                                          ...</td>\n",
       "      <td>2 Mbps</td>\n",
       "      <td>ADSL</td>\n",
       "      <td>BENEDITA DE OLIVEIRA ALE PROFESSORA</td>\n",
       "      <td>Estadual</td>\n",
       "      <td>23/02/2018</td>\n",
       "      <td>3</td>\n",
       "      <td>2022</td>\n",
       "      <td>2018</td>\n",
       "    </tr>\n",
       "    <tr>\n",
       "      <th>19872</th>\n",
       "      <td>TELEFÔNICA</td>\n",
       "      <td>35003463</td>\n",
       "      <td>SP</td>\n",
       "      <td>São Paulo</td>\n",
       "      <td>Instalada</td>\n",
       "      <td>PBLE                                          ...</td>\n",
       "      <td>2 Mbps</td>\n",
       "      <td>DEDICADO</td>\n",
       "      <td>REINALDO RIBEIRO DA SILVA DOUTOR</td>\n",
       "      <td>Estadual</td>\n",
       "      <td>19/02/2018</td>\n",
       "      <td>3</td>\n",
       "      <td>2022</td>\n",
       "      <td>2018</td>\n",
       "    </tr>\n",
       "    <tr>\n",
       "      <th>19966</th>\n",
       "      <td>TELEFÔNICA</td>\n",
       "      <td>35565817[*]</td>\n",
       "      <td>SP</td>\n",
       "      <td>Caraguatatuba</td>\n",
       "      <td>Instalada</td>\n",
       "      <td>PBLE                                          ...</td>\n",
       "      <td>8 Mbps</td>\n",
       "      <td>Rede Celular</td>\n",
       "      <td>LUIZ SILVAR DO PRADO PROFESSOR EMEF</td>\n",
       "      <td>Municipal</td>\n",
       "      <td>05/09/2018</td>\n",
       "      <td>3</td>\n",
       "      <td>2022</td>\n",
       "      <td>2018</td>\n",
       "    </tr>\n",
       "  </tbody>\n",
       "</table>\n",
       "</div>"
      ],
      "text/plain": [
       "       Prestadora      Nº INEP  UF      Municipio   Situação  \\\n",
       "51271  TELEFÔNICA  35205187[*]  SP       Campinas  Instalada   \n",
       "19850  TELEFÔNICA     35910284  SP      São Paulo  Instalada   \n",
       "19855  TELEFÔNICA     35037497  SP      Guarulhos  Instalada   \n",
       "19872  TELEFÔNICA     35003463  SP      São Paulo  Instalada   \n",
       "19966  TELEFÔNICA  35565817[*]  SP  Caraguatatuba  Instalada   \n",
       "\n",
       "                                       Tipo de Obrigação  \\\n",
       "51271  PBLE                                          ...   \n",
       "19850  PBLE                                          ...   \n",
       "19855  PBLE                                          ...   \n",
       "19872  PBLE                                          ...   \n",
       "19966  PBLE                                          ...   \n",
       "\n",
       "      Velocidade de Acesso Instalada    Tecnologia  \\\n",
       "51271                        10 Mbps          ADSL   \n",
       "19850                         2 Mbps      DEDICADO   \n",
       "19855                         2 Mbps          ADSL   \n",
       "19872                         2 Mbps      DEDICADO   \n",
       "19966                         8 Mbps  Rede Celular   \n",
       "\n",
       "                            Nome da Escola Tipo Escola Data de Ativação  Mes  \\\n",
       "51271                      JOAO VIALTA CEI   Municipal       15/10/2018    3   \n",
       "19850   SERGIO PAULO MUNIZ PIMENTA CAPITAO    Estadual       22/03/2018    3   \n",
       "19855  BENEDITA DE OLIVEIRA ALE PROFESSORA    Estadual       23/02/2018    3   \n",
       "19872     REINALDO RIBEIRO DA SILVA DOUTOR    Estadual       19/02/2018    3   \n",
       "19966  LUIZ SILVAR DO PRADO PROFESSOR EMEF   Municipal       05/09/2018    3   \n",
       "\n",
       "        Ano  Ano_Ativacao  \n",
       "51271  2022          2018  \n",
       "19850  2022          2018  \n",
       "19855  2022          2018  \n",
       "19872  2022          2018  \n",
       "19966  2022          2018  "
      ]
     },
     "execution_count": 5,
     "metadata": {},
     "output_type": "execute_result"
    }
   ],
   "source": [
    "pble.head()"
   ]
  },
  {
   "cell_type": "code",
   "execution_count": 11,
   "metadata": {},
   "outputs": [],
   "source": [
    "pble['velocidade'] = pble['Velocidade de Acesso Instalada'].apply(lambda x: float(x.split(' ')[0]))"
   ]
  },
  {
   "cell_type": "code",
   "execution_count": 16,
   "metadata": {},
   "outputs": [
    {
     "data": {
      "text/html": [
       "<div>\n",
       "<style scoped>\n",
       "    .dataframe tbody tr th:only-of-type {\n",
       "        vertical-align: middle;\n",
       "    }\n",
       "\n",
       "    .dataframe tbody tr th {\n",
       "        vertical-align: top;\n",
       "    }\n",
       "\n",
       "    .dataframe thead th {\n",
       "        text-align: right;\n",
       "    }\n",
       "</style>\n",
       "<table border=\"1\" class=\"dataframe\">\n",
       "  <thead>\n",
       "    <tr style=\"text-align: right;\">\n",
       "      <th></th>\n",
       "      <th>Velocidade de Acesso Instalada</th>\n",
       "      <th>velocidade</th>\n",
       "    </tr>\n",
       "  </thead>\n",
       "  <tbody>\n",
       "    <tr>\n",
       "      <th>51271</th>\n",
       "      <td>10 Mbps</td>\n",
       "      <td>10.0</td>\n",
       "    </tr>\n",
       "    <tr>\n",
       "      <th>19850</th>\n",
       "      <td>2 Mbps</td>\n",
       "      <td>2.0</td>\n",
       "    </tr>\n",
       "    <tr>\n",
       "      <th>19855</th>\n",
       "      <td>2 Mbps</td>\n",
       "      <td>2.0</td>\n",
       "    </tr>\n",
       "    <tr>\n",
       "      <th>19872</th>\n",
       "      <td>2 Mbps</td>\n",
       "      <td>2.0</td>\n",
       "    </tr>\n",
       "    <tr>\n",
       "      <th>19966</th>\n",
       "      <td>8 Mbps</td>\n",
       "      <td>8.0</td>\n",
       "    </tr>\n",
       "    <tr>\n",
       "      <th>...</th>\n",
       "      <td>...</td>\n",
       "      <td>...</td>\n",
       "    </tr>\n",
       "    <tr>\n",
       "      <th>61705</th>\n",
       "      <td>2 Mbps</td>\n",
       "      <td>2.0</td>\n",
       "    </tr>\n",
       "    <tr>\n",
       "      <th>45140</th>\n",
       "      <td>25 Mbps</td>\n",
       "      <td>25.0</td>\n",
       "    </tr>\n",
       "    <tr>\n",
       "      <th>40548</th>\n",
       "      <td>25 Mbps</td>\n",
       "      <td>25.0</td>\n",
       "    </tr>\n",
       "    <tr>\n",
       "      <th>33122</th>\n",
       "      <td>25 Mbps</td>\n",
       "      <td>25.0</td>\n",
       "    </tr>\n",
       "    <tr>\n",
       "      <th>64743</th>\n",
       "      <td>25 Mbps</td>\n",
       "      <td>25.0</td>\n",
       "    </tr>\n",
       "  </tbody>\n",
       "</table>\n",
       "<p>2093 rows × 2 columns</p>\n",
       "</div>"
      ],
      "text/plain": [
       "      Velocidade de Acesso Instalada  velocidade\n",
       "51271                        10 Mbps        10.0\n",
       "19850                         2 Mbps         2.0\n",
       "19855                         2 Mbps         2.0\n",
       "19872                         2 Mbps         2.0\n",
       "19966                         8 Mbps         8.0\n",
       "...                              ...         ...\n",
       "61705                         2 Mbps         2.0\n",
       "45140                        25 Mbps        25.0\n",
       "40548                        25 Mbps        25.0\n",
       "33122                        25 Mbps        25.0\n",
       "64743                        25 Mbps        25.0\n",
       "\n",
       "[2093 rows x 2 columns]"
      ]
     },
     "execution_count": 16,
     "metadata": {},
     "output_type": "execute_result"
    }
   ],
   "source": [
    "pble[['Velocidade de Acesso Instalada', 'velocidade']]"
   ]
  },
  {
   "cell_type": "code",
   "execution_count": 48,
   "metadata": {},
   "outputs": [],
   "source": [
    "pble_agg_tipo_escola = pble.groupby(['Ano_Ativacao','Municipio','Tipo Escola']).agg(velocidade_median=('velocidade', np.median), velocidade_mean=('velocidade', np.mean)).reset_index()"
   ]
  },
  {
   "cell_type": "code",
   "execution_count": 49,
   "metadata": {},
   "outputs": [],
   "source": [
    "pble_agg_total_municipio = pble.groupby(['Ano_Ativacao','Municipio']).agg(velocidade_median=('velocidade', np.median), velocidade_mean=('velocidade', np.mean)).reset_index()"
   ]
  },
  {
   "cell_type": "markdown",
   "metadata": {},
   "source": [
    "### Salvando agregações"
   ]
  },
  {
   "cell_type": "code",
   "execution_count": 54,
   "metadata": {},
   "outputs": [],
   "source": [
    "pble_agg_total_municipio.to_csv('../../Resultados/Agg/PBLE/PBLE_agg_total_municipio.csv', index=False)"
   ]
  },
  {
   "cell_type": "code",
   "execution_count": 55,
   "metadata": {},
   "outputs": [],
   "source": [
    "pble_agg_tipo_escola.to_csv('../../Resultados/Agg/PBLE/PBLE_agg_tipo_escola.csv', index=False)"
   ]
  }
 ],
 "metadata": {
  "kernelspec": {
   "display_name": "Python 3.8.10 64-bit",
   "language": "python",
   "name": "python3"
  },
  "language_info": {
   "codemirror_mode": {
    "name": "ipython",
    "version": 3
   },
   "file_extension": ".py",
   "mimetype": "text/x-python",
   "name": "python",
   "nbconvert_exporter": "python",
   "pygments_lexer": "ipython3",
   "version": "3.8.10"
  },
  "orig_nbformat": 4,
  "vscode": {
   "interpreter": {
    "hash": "916dbcbb3f70747c44a77c7bcd40155683ae19c65e1c03b4aa3499c5328201f1"
   }
  }
 },
 "nbformat": 4,
 "nbformat_minor": 2
}
