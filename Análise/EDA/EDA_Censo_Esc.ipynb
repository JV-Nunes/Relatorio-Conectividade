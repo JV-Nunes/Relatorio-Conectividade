{
 "cells": [
  {
   "cell_type": "code",
   "execution_count": 1,
   "metadata": {},
   "outputs": [],
   "source": [
    "import pandas as pd\n",
    "import dask.dataframe as dd"
   ]
  },
  {
   "cell_type": "code",
   "execution_count": 9,
   "metadata": {},
   "outputs": [
    {
     "ename": "ImportError",
     "evalue": "attempted relative import with no known parent package",
     "output_type": "error",
     "traceback": [
      "\u001b[0;31m---------------------------------------------------------------------------\u001b[0m",
      "\u001b[0;31mImportError\u001b[0m                               Traceback (most recent call last)",
      "\u001b[1;32m/home/joao/Documentos/Gabinete/Relatório_Conectividade/Análise/EDA/EDA_Censo_Esc.ipynb Cell 2'\u001b[0m in \u001b[0;36m<cell line: 1>\u001b[0;34m()\u001b[0m\n\u001b[0;32m----> <a href='vscode-notebook-cell:/home/joao/Documentos/Gabinete/Relat%C3%B3rio_Conectividade/An%C3%A1lise/EDA/EDA_Censo_Esc.ipynb#ch0000005?line=0'>1</a>\u001b[0m \u001b[39mfrom\u001b[39;00m \u001b[39m.\u001b[39;00m\u001b[39m.\u001b[39;00m\u001b[39mUtils\u001b[39;00m\u001b[39m.\u001b[39;00m\u001b[39mcols_list\u001b[39;00m \u001b[39mimport\u001b[39;00m \u001b[39m*\u001b[39m\n",
      "\u001b[0;31mImportError\u001b[0m: attempted relative import with no known parent package"
     ]
    }
   ],
   "source": [
    "from ..Utils.cols_list import *"
   ]
  },
  {
   "cell_type": "code",
   "execution_count": 27,
   "metadata": {},
   "outputs": [],
   "source": [
    "cols_list = [\n",
    "    'NU_ANO_CENSO',\n",
    "    'SG_UF',\n",
    "    'CO_MUNICIPIO',\n",
    "    'NO_MUNICIPIO',\n",
    "    'CO_ENTIDADE',\n",
    "    'TP_DEPENDENCIA',\n",
    "    'TP_LOCALIZACAO',\n",
    "    'TP_SITUACAO_FUNCIONAMENTO',\n",
    "    'IN_AGUA_POTAVEL',\n",
    "    'IN_ENERGIA_INEXISTENTE',\n",
    "    'IN_ESGOTO_INEXISTENTE',\n",
    "    'IN_AREA_VERDE',\n",
    "    'IN_BANHEIRO',\n",
    "    'IN_BIBLIOTECA',\n",
    "    'IN_LABORATORIO_INFORMATICA',\n",
    "    'IN_INTERNET',\n",
    "    'IN_INTERNET_APRENDIZAGEM',\n",
    "    'IN_INTERNET_ADMINISTRATIVO',\n",
    "    'IN_INTERNET_COMUNIDADE',\n",
    "    'IN_ACESSO_INTERNET_COMPUTADOR',\n",
    "    'IN_ACES_INTERNET_DISP_PESSOAIS',\n",
    "    'TP_REDE_LOCAL',\n",
    "    'IN_BANDA_LARGA',\n",
    "    'IN_EXAME_SELECAO',\n",
    "    'QT_DOC_MED'\n",
    "]"
   ]
  },
  {
   "cell_type": "code",
   "execution_count": 2,
   "metadata": {},
   "outputs": [],
   "source": [
    "cols_jp = [\n",
    "    'SG_UF',\n",
    "    'QT_MAT_BAS',\n",
    "    'QT_MAT_INF',\n",
    "    'QT_MAT_INF_CRE',\n",
    "    'QT_MAT_INF_PRE',\n",
    "    'QT_MAT_FUND',\n",
    "    'QT_MAT_FUND_AI',\n",
    "    'QT_MAT_FUND_AF',\n",
    "    'QT_MAT_MED',\n",
    "    'QT_MAT_PROF'\n",
    "\n",
    "]"
   ]
  },
  {
   "cell_type": "code",
   "execution_count": 28,
   "metadata": {},
   "outputs": [],
   "source": [
    "censo = dd.read_csv(\n",
    "    '../../Dados/Censo Escolar/2021/dados/microdados_ed_basica_2021.csv', \n",
    "    sep=';', \n",
    "    encoding='latin-1',\n",
    "    usecols=cols_list,\n",
    "    assume_missing=True,\n",
    "    )"
   ]
  },
  {
   "cell_type": "code",
   "execution_count": null,
   "metadata": {},
   "outputs": [],
   "source": []
  }
 ],
 "metadata": {
  "interpreter": {
   "hash": "e7370f93d1d0cde622a1f8e1c04877d8463912d04d973331ad4851f04de6915a"
  },
  "kernelspec": {
   "display_name": "Python 3.9.9 64-bit",
   "language": "python",
   "name": "python3"
  },
  "language_info": {
   "codemirror_mode": {
    "name": "ipython",
    "version": 3
   },
   "file_extension": ".py",
   "mimetype": "text/x-python",
   "name": "python",
   "nbconvert_exporter": "python",
   "pygments_lexer": "ipython3",
   "version": "3.9.9"
  },
  "orig_nbformat": 4
 },
 "nbformat": 4,
 "nbformat_minor": 2
}
