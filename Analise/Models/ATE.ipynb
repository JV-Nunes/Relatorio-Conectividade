{
 "cells": [
  {
   "cell_type": "code",
   "execution_count": 3,
   "metadata": {},
   "outputs": [],
   "source": [
    "import pandas as pd\n",
    "import statsmodels.api as sm\n",
    "import matplotlib.pyplot as plt\n",
    "import numpy as np\n",
    "from glob import glob"
   ]
  },
  {
   "cell_type": "markdown",
   "metadata": {},
   "source": [
    "# Funções"
   ]
  },
  {
   "cell_type": "code",
   "execution_count": 68,
   "metadata": {},
   "outputs": [],
   "source": [
    "def save_summary(result, year, pattern):\n",
    "    pattern = pattern.split('/')[-1].split('.')[0].split('*')[0]\n",
    "    with open(f'Summary/ATE-{pattern}{year}.txt', 'w') as f:\n",
    "        print(f'REGRESSÃO PARA {year}', file=f)\n",
    "        print(result.summary(), file=f)"
   ]
  },
  {
   "cell_type": "code",
   "execution_count": 65,
   "metadata": {},
   "outputs": [],
   "source": [
    "def run_linear(df, y_col, X, year):\n",
    "  lm = sm.WLS(df[y_col], sm.add_constant(df[X]), weights=df['weights'], missing='drop')\n",
    "  res = lm.fit(cov_type='cluster', cov_kwds={'groups': df['subclass']})\n",
    "  return res"
   ]
  },
  {
   "cell_type": "code",
   "execution_count": 66,
   "metadata": {},
   "outputs": [],
   "source": [
    "def read_files(pattern):\n",
    "    files = glob(pattern)\n",
    "    df = pd.concat([pd.read_parquet(f) for f in files])\n",
    "    return df"
   ]
  },
  {
   "cell_type": "code",
   "execution_count": 64,
   "metadata": {},
   "outputs": [],
   "source": [
    "def calculate_ate(pattern, y_col, X):\n",
    "    df = read_files(pattern)\n",
    "    for year in df.NU_ANO.unique():\n",
    "        sel = df[df.NU_ANO == year]\n",
    "        sel = sel[(~sel.isin([np.inf, -np.inf]).any(1))]\n",
    "        res = run_linear(sel, y_col, X, year)\n",
    "        save_summary(res, year, pattern)"
   ]
  },
  {
   "cell_type": "markdown",
   "metadata": {},
   "source": [
    "# Script"
   ]
  },
  {
   "cell_type": "markdown",
   "metadata": {},
   "source": [
    "Avaliando Avarage Treatment Effect Para Internet"
   ]
  },
  {
   "cell_type": "code",
   "execution_count": 69,
   "metadata": {},
   "outputs": [],
   "source": [
    "file = \"../../Resultados/Agg/ENEM/aux/postMatching/individuo-Q025-*.parquet\"\n",
    "calculate_ate(file, 'LOG_NT_MEDIA', 'Q025')"
   ]
  },
  {
   "cell_type": "markdown",
   "metadata": {},
   "source": [
    "Avaliando Avarage Treatment Effect para alunos de escola pública e Internet"
   ]
  },
  {
   "cell_type": "code",
   "execution_count": 70,
   "metadata": {},
   "outputs": [],
   "source": [
    "file = \"../../Resultados/Agg/ENEM/aux/postMatching/individuo-Q025-publica*.parquet\"\n",
    "calculate_ate(file, 'LOG_NT_MEDIA', 'Q025')"
   ]
  },
  {
   "cell_type": "markdown",
   "metadata": {},
   "source": [
    "Avaliando ATE para COMPUTADOR"
   ]
  },
  {
   "cell_type": "code",
   "execution_count": null,
   "metadata": {},
   "outputs": [],
   "source": [
    "file = \"../../Resultados/Agg/ENEM/aux/postMatching/individuo-Q024-*.parquet\"\n",
    "calculate_ate(file, 'LOG_NT_MEDIA', 'Q024')"
   ]
  }
 ],
 "metadata": {
  "kernelspec": {
   "display_name": "Python 3.9.13 ('scraping')",
   "language": "python",
   "name": "python3"
  },
  "language_info": {
   "codemirror_mode": {
    "name": "ipython",
    "version": 3
   },
   "file_extension": ".py",
   "mimetype": "text/x-python",
   "name": "python",
   "nbconvert_exporter": "python",
   "pygments_lexer": "ipython3",
   "version": "3.9.13"
  },
  "orig_nbformat": 4,
  "vscode": {
   "interpreter": {
    "hash": "0b57a106df503026757037a3564c5b06bb9bd0ebd4985fd2fe126eeda7bdee66"
   }
  }
 },
 "nbformat": 4,
 "nbformat_minor": 2
}
