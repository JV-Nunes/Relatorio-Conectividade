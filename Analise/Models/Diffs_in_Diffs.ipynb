{
 "cells": [
  {
   "cell_type": "code",
   "execution_count": 1,
   "metadata": {},
   "outputs": [],
   "source": [
    "import pandas as pd"
   ]
  },
  {
   "cell_type": "markdown",
   "metadata": {},
   "source": [
    "# Diferenças em Diferenças"
   ]
  },
  {
   "cell_type": "markdown",
   "metadata": {},
   "source": [
    "### Investigando efeito das políticas estaduais de distribuição de chips e equipamentos frente estados que não realizaram intervenções durante a pandemia"
   ]
  },
  {
   "cell_type": "markdown",
   "metadata": {},
   "source": [
    "Para calcular o efeito a partir da abordagem de diferenças em diferenças, utilizamos a seguinte equação:\n",
    "\n",
    "$\\hat{y} = \\beta_0 + \\beta_1 \\times Treated + \\beta_2 \\times Post + \\beta_3 \\times Treated \\times Post + \\beta_i \\times Cofound_i + ... + \\beta_n \\times Cofound_n$\n",
    "\n",
    "Controlando para demais variáveis que produzam impacto no outcome. O efeito obtido então da política será o regressor $\\beta_3$."
   ]
  },
  {
   "cell_type": "markdown",
   "metadata": {},
   "source": [
    "### Hipótese: \n",
    "\n",
    "Políticas de intervenção e subsídio ao acesso de internet amenizaram o impacto negativo do ensino remoto ao fornecer acesso a estudantes vulneráveis."
   ]
  },
  {
   "cell_type": "markdown",
   "metadata": {},
   "source": [
    "### Proxy para Tratamento:\n",
    "\n",
    "Como não existem dados oficiais dos estados sobre a distribuição de chips e equipamentos por escola, utilizamos como tratamento a probabilidade de distribuição de chips e equipamentos para cada município.\n",
    "\n",
    "Essa probabilidade será calculada a partir da seguinte equação:\n",
    "\n",
    "$E[Chip_ik] = \\frac{(\\dot{y_i} / n_k)(1 - b)}{a}$\n",
    "\n",
    "- $E[Chip_i]$ é a probabilidade do aluno $i$ do município $k$ receber um chip/equipamento do governo;\n",
    "- $\\dot{y_i}$ é o número de chips/equipamentos distribuídos para o município $i$;\n",
    "- $n_k$ é o número de alunos das escolas elegíveis para a política no município $k$;\n",
    "- $a$ é a probabilidade de erro tipo-I: que o estudante receba acesso a internet mas não seja contabilizado na proxy;\n",
    "- $b$ é a probabilidade de erro tipo-II: que o estudante não receba acesso a internet mesmo tendo cobertura no município;\n"
   ]
  },
  {
   "cell_type": "markdown",
   "metadata": {},
   "source": []
  }
 ],
 "metadata": {
  "kernelspec": {
   "display_name": "Python 3.9.13 ('scraping')",
   "language": "python",
   "name": "python3"
  },
  "language_info": {
   "codemirror_mode": {
    "name": "ipython",
    "version": 3
   },
   "file_extension": ".py",
   "mimetype": "text/x-python",
   "name": "python",
   "nbconvert_exporter": "python",
   "pygments_lexer": "ipython3",
   "version": "3.9.13"
  },
  "orig_nbformat": 4,
  "vscode": {
   "interpreter": {
    "hash": "0b57a106df503026757037a3564c5b06bb9bd0ebd4985fd2fe126eeda7bdee66"
   }
  }
 },
 "nbformat": 4,
 "nbformat_minor": 2
}
