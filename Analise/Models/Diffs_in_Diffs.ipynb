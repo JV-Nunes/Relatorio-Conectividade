{
 "cells": [
  {
   "cell_type": "code",
   "execution_count": 2,
   "metadata": {},
   "outputs": [],
   "source": [
    "import sys\n",
    "import os\n",
    "\n",
    "module_path = os.path.abspath(os.path.join('..'))\n",
    "if module_path not in sys.path:\n",
    "    sys.path.append(module_path+\"/Utils\")\n"
   ]
  },
  {
   "cell_type": "code",
   "execution_count": 3,
   "metadata": {},
   "outputs": [
    {
     "name": "stderr",
     "output_type": "stream",
     "text": [
      "/home/joao/anaconda3/envs/scraping/lib/python3.9/site-packages/scipy/__init__.py:146: UserWarning: A NumPy version >=1.16.5 and <1.23.0 is required for this version of SciPy (detected version 1.23.3\n",
      "  warnings.warn(f\"A NumPy version >={np_minversion} and <{np_maxversion}\"\n"
     ]
    }
   ],
   "source": [
    "import warnings\n",
    "import gc\n",
    "import numpy as np\n",
    "import pandas as pd\n",
    "import dask.dataframe as dd\n",
    "import statsmodels.api as sm\n",
    "import statsmodels.formula.api as smf\n",
    "import matplotlib.pyplot as plt\n",
    "import seaborn as sns\n",
    "from glob import glob"
   ]
  },
  {
   "cell_type": "markdown",
   "metadata": {},
   "source": [
    "# Problema principal\n",
    "### Inferência Causal\n",
    "\n",
    "Quando queremos analisar o peso de um tratamento em um outcome, realizamos experimentos. Os experimentos possuem grupo de controle e tratamento, que possuem distribuição similates e foram escolhidas aleatoriamente. Com isso, consegue-se eliminar eventuais viéses de seleção e poderemos comparar as diferenças no outcome advindas a partir daquele (e só dele) tratamento.\n",
    "\n",
    "Entretanto, nem sempre é possível realizar experimentos. Daí se elaboraram as técnicas quasi-experimentais, que simulam experimentos a partir de dados observacionais. A ideia principal é eliminar o viés da análise e conseguir extrair dos eventos ocorridos, efeitos causais de um tratamento. É uma tarefa difícil, pois o viés pode estar em vários pontos da análise, e é complexo conseguir limpar todos os ruídos para compararmos laranjas com laranjas, e não laranjas com maçãs.\n",
    "\n",
    "### Conectividade\n",
    "Precisamos estimar efeito do acesso à internet, durante a pandemia, no desempenho escolar. Uma proxy do desempenho escolar que possui muitos dados disponíveis para análise são os scores do enem.\n",
    "Uma análise de regressão entre a presença de internet e os scores, entretanto, sofre de vários possíveis problemas. Podemos estar comparando laranjas com maçãs, pois a presença de internet pode estar relacionada a outros fatores que influenciam no desempenho escolar. Por exemplo, a presença de internet pode estar relacionada a renda, que por sua vez está relacionada ao desempenho escolar. Ou seja, a presença de internet pode ser um proxy para a renda, e não para o desempenho escolar.\n",
    "\n",
    "Mesmo controlando a renda na regressão, existem outros \"cofounders\" que podem estar envolvidos na presença de internet. Talvez pessoas com maior apoio familiar tenham mais probabilidade de ter acesso à internet. Isso afetaria tanto o tratamento quanto o outcome, e não conseguimos controlar esse viés. Esse é o problema da endogeneidade.\n",
    "\n",
    "### Diferenças em Diferenças\n",
    "A partir da análise de diferenças em diferenças, tentamos comparar uma evolução temporal entre grupos que recebem um tratamento e grupos que não recebem. A ideia é que, se os grupos seguirem uma evolução semelhante no tempo, e conhecendo as diferenças entre eles, a diferença no outcome gerada pelo tratamento seria observado na diferença entre as evoluções. Neste caso, não precisamos comparar maças com maças, mas podemos comparar a evolução de maças com a evolução de laranjas. A diferença entre as evoluções é o efeito do tratamento.\n",
    "\n",
    "\n"
   ]
  },
  {
   "cell_type": "markdown",
   "metadata": {},
   "source": [
    "# Diferenças em Diferenças"
   ]
  },
  {
   "cell_type": "markdown",
   "metadata": {},
   "source": [
    "### Investigando efeito das políticas estaduais de distribuição de chips e equipamentos frente estados que não realizaram intervenções durante a pandemia"
   ]
  },
  {
   "cell_type": "markdown",
   "metadata": {},
   "source": [
    "Para calcular o efeito a partir da abordagem de diferenças em diferenças, utilizamos a seguinte equação:\n",
    "\n",
    "$\\hat{y} = \\beta_0 + \\beta_1 \\times Treated + \\beta_2 \\times Post + \\beta_3 \\times Treated \\times Post + \\beta_i \\times Cofound_i + ... + \\beta_n \\times Cofound_n$\n",
    "\n",
    "Controlando para demais variáveis que produzam impacto no outcome. O efeito obtido então da política será o regressor $\\beta_3$."
   ]
  },
  {
   "cell_type": "markdown",
   "metadata": {},
   "source": [
    "### Hipótese: \n",
    "\n",
    "Políticas de intervenção e subsídio ao acesso de internet amenizaram o impacto negativo do ensino remoto ao fornecer acesso a estudantes vulneráveis."
   ]
  },
  {
   "cell_type": "markdown",
   "metadata": {},
   "source": [
    "### Proxy para Tratamento:\n",
    "\n",
    "Como não existem dados oficiais dos estados sobre a distribuição de chips e equipamentos por escola, utilizamos uma proxy dada pela probabilidade de cada aluno receber chips e equipamentos para cada município.\n",
    "\n",
    "Essa probabilidade será calculada a partir da seguinte equação:\n",
    "\n",
    "$E[Chip_ik] = \\frac{(\\dot{y_i} / n_k)(1 - b)}{a}$\n",
    "\n",
    "- $E[Chip_i]$ é a probabilidade do aluno $i$ do município $k$ receber um chip/equipamento do governo;\n",
    "- $\\dot{y_i}$ é o número de chips/equipamentos distribuídos para o município $i$;\n",
    "- $n_k$ é o número de alunos das escolas elegíveis para a política no município $k$;\n",
    "- $a$ é a probabilidade de erro tipo-I: que o estudante receba acesso a internet mas não seja contabilizado na proxy;\n",
    "- $b$ é a probabilidade de erro tipo-II: que o estudante não receba acesso a internet mesmo tendo cobertura no município;\n"
   ]
  },
  {
   "cell_type": "markdown",
   "metadata": {},
   "source": [
    "# Análise empírica"
   ]
  },
  {
   "cell_type": "markdown",
   "metadata": {},
   "source": [
    "To-do:\n",
    "\n",
    "- Coletar informações sobre a distribuição de chips e equipamentos por município com data do início da política e mais detalhes;\n",
    "- Plotar gráficos com a diferença entre o grupo de controle e de tratamento e a evolução nas notas médias, de português e matemática, de cada grupo no tempo;\n",
    "- Construir proxy para tratamento;\n",
    "- Realizar regressão e obter os estimadores de diferenças em diferenças;"
   ]
  },
  {
   "cell_type": "code",
   "execution_count": 3,
   "metadata": {},
   "outputs": [],
   "source": [
    "from funs import *\n",
    "from cols_list import cols_enem"
   ]
  },
  {
   "cell_type": "markdown",
   "metadata": {},
   "source": [
    "## Funções"
   ]
  },
  {
   "cell_type": "code",
   "execution_count": 7,
   "metadata": {},
   "outputs": [],
   "source": [
    "def agg_home_conditions(df):\n",
    "    '''\n",
    "    Cria um índice normalizado que representa a condição de moradia do aluno.\n",
    "    '''\n",
    "\n",
    "    mapping = {\"A\": 1, \"B\": 2, \"C\": 3, \"D\": 4, \"E\": 5}\n",
    "    cols = ['Q007','Q008','Q009','Q010','Q012','Q014','Q016','Q019']\n",
    "    for col in cols:\n",
    "        df[col] = df[col].map(mapping, meta=(col, 'int'))\n",
    "\n",
    "    series = df['Q007'] + df['Q008'] + \\\n",
    "    df['Q009'] + df['Q010'] + df['Q012'] + \\\n",
    "    df['Q014'] + df['Q016'] + df['Q019'] \n",
    "    \n",
    "    min = series.min().compute()\n",
    "    max = series.max().compute()\n",
    "\n",
    "    normalized = series.apply(lambda x: x-min / max-min, meta=series)\n",
    "\n",
    "    return normalized"
   ]
  },
  {
   "cell_type": "code",
   "execution_count": 6,
   "metadata": {},
   "outputs": [],
   "source": [
    "def load_and_filter(year):\n",
    "    '''\n",
    "    Carrega um ano específico do dataset do ENEM, realiza a \n",
    "    filtragem das colunas e insere dados úteis para a análise.\n",
    "    \n",
    "    Parameters\n",
    "    ----------\n",
    "    year: int\n",
    "        The year of the data to be loaded\n",
    "\n",
    "    Returns\n",
    "    -------\n",
    "    df: dask.dataframe\n",
    "        The filtered data\n",
    "    '''\n",
    "    cols_to_use = cols_enem + ['Q014', 'Q016', 'NO_MUNICIPIO_ESC']\n",
    "    enem = filter_enem(dask_load_year_enem(year, cols_to_use), concluinte=True)\n",
    "    gc.collect()\n",
    "    enem['Q025'] = enem['Q025'].replace(['A','B'],[0,1])\n",
    "    enem['NT_MEDIA'] = enem.apply(lambda row: get_medium_score(row), axis=1)\n",
    "    enem['LOG_NT_MEDIA'] = np.log(enem['NT_MEDIA'])\n",
    "    enem['LOG_NT_MT'] = np.log(enem['NU_NOTA_MT'])\n",
    "\n",
    "    try:\n",
    "        enem['IND_CASA'] = agg_home_conditions(enem)\n",
    "    except Exception as e:\n",
    "        print(e)\n",
    "        print(\"Error on year {}\".format(year))\n",
    "        raise\n",
    "\n",
    "    cleared = enem[['NU_ANO','CO_MUNICIPIO_ESC','NO_MUNICIPIO_ESC',\n",
    "    'SG_UF_ESC','TP_DEPENDENCIA_ADM_ESC', \n",
    "    'TP_FAIXA_ETARIA', 'TP_SEXO', 'TP_ESTADO_CIVIL',\n",
    "    'TP_COR_RACA', 'TP_ESCOLA', 'TP_LOCALIZACAO_ESC','LOG_NT_MT','NU_NOTA_LC',\n",
    "    'NU_NOTA_MT','Q001', 'Q002', 'Q005', 'Q006', 'Q022', 'Q024', 'Q025', 'IND_CASA', 'NT_MEDIA',\n",
    "    'LOG_NT_MEDIA']]\n",
    "    \n",
    "    return cleared"
   ]
  },
  {
   "cell_type": "markdown",
   "metadata": {},
   "source": [
    "## Processamento e modelagem"
   ]
  },
  {
   "cell_type": "code",
   "execution_count": null,
   "metadata": {},
   "outputs": [],
   "source": [
    "data = dd.concat([load_and_filter(year) for year in range(2018,2022)])"
   ]
  },
  {
   "cell_type": "code",
   "execution_count": null,
   "metadata": {},
   "outputs": [],
   "source": [
    "data = data.compute()"
   ]
  },
  {
   "cell_type": "code",
   "execution_count": 10,
   "metadata": {},
   "outputs": [],
   "source": [
    "# persistindo dados para sessão posterior\n",
    "data.to_parquet('../../Resultados/Agg/ENEM/aux/dados_para_modelagem.parquet')"
   ]
  },
  {
   "cell_type": "markdown",
   "metadata": {},
   "source": [
    "### Ajustes na modelagem\n",
    "\n",
    "Visualmente, a comparação entre estados com tratamento e sem tratamento não é clara. Porém. podemos realizar o ajuste em regressão para contornar os problemas da seleção amostral por meio do matching e verificar o estimador. \n",
    "\n",
    "Outra ideia possível é utilizar o modelo de diferenças em diferenças para estimar o efeito da política na presença de internet em casa. A partir desse estimador obtido, podemos inserir essa variável como instrumento na regressão original para analisar o efeito causal entre presença de internet e notas."
   ]
  },
  {
   "cell_type": "markdown",
   "metadata": {},
   "source": [
    "(1):\n",
    "\n",
    "$Nota_i = \\beta_0 + \\beta_1 \\times Cofound_1 + ... + \\beta_n \\times Cofound_n  + \\mathbf{X_i \\times INTERNET_i} + e_i$ "
   ]
  },
  {
   "cell_type": "markdown",
   "metadata": {},
   "source": [
    "(2):\n",
    "\n",
    "$\\mathbf{INTERNET_i} = \\gamma_0 + \\gamma_1 \\times Treated + \\gamma_2 \\times Post + \\mathbf{\\gamma_3 \\times Treated \\times Post} +  ... + \\gamma_n \\times Cofound_n$"
   ]
  },
  {
   "cell_type": "markdown",
   "metadata": {},
   "source": [
    "## DiDs"
   ]
  },
  {
   "cell_type": "markdown",
   "metadata": {},
   "source": [
    "Datas das edições do Enem\n",
    "- 2019: 03/11/2019 e 10/11/2019\n",
    "- 2020: 17/01/2021 e 24/01/2021  \n",
    "- 2021: 21/11/2021 e 28/11/2021\n",
    "- 2022: 13/11/2022 e 20/11/2022\n",
    "\n",
    "Como estou relacionando política e presença de internet, posso utilizar como tratados os alunos que receberam chips em 2020 já na edição do enem 2020.\n",
    "Os que receberam chips em janeiro de 2021 não serão considerados como tratados na edição de 2020, pois não houve tempo suficiente para que a distribuição tenha sido concluída. Estes, serão considerados como tratados apenas em 2021."
   ]
  },
  {
   "cell_type": "markdown",
   "metadata": {},
   "source": [
    "### Observações\n",
    "\n",
    "Como o enem não é um exame obrigatório, há um viés de seleção que pode ser alto no caso dessa análise. Uma possibilidade de contorno é utilizar os dados da PNAD para verificar a mudança no acesso à internet causado pelos programas estaduais."
   ]
  },
  {
   "cell_type": "code",
   "execution_count": 4,
   "metadata": {},
   "outputs": [],
   "source": [
    "def read_and_label_year(filename):\n",
    "    df = pd.read_csv(filename, sep=';', encoding='utf-8', dtype={'Valor Transferido':float}, thousands='.',decimal=',')\n",
    "    df['ANO'] = filename[-8:-4]\n",
    "    return df"
   ]
  },
  {
   "cell_type": "code",
   "execution_count": 5,
   "metadata": {},
   "outputs": [],
   "source": [
    "from sklearn.preprocessing import LabelEncoder\n",
    "import statsmodels.api as sm\n",
    "import glob"
   ]
  },
  {
   "cell_type": "code",
   "execution_count": 5,
   "metadata": {},
   "outputs": [],
   "source": [
    "# Carregando dataset persistido em outra sessão anterior\n",
    "data = pd.read_parquet('../../Resultados/Agg/ENEM/aux/dados_para_modelagem.parquet')"
   ]
  },
  {
   "cell_type": "code",
   "execution_count": 10,
   "metadata": {},
   "outputs": [],
   "source": [
    "# Selecionando escolas públicas estaduais\n",
    "data = data.query('TP_DEPENDENCIA_ADM_ESC == 2')\n",
    "\n",
    "# TO-DO: Avaliar estados a serem comparados de acordo com critérios; proximidade geográfica, idh, etc.\n",
    "\n",
    "#data = data[data['SG_UF_ESC'].isin(['PI', 'CE', 'BA', 'MA', 'PE', 'RN', 'SE', 'PA','AL','PA'])]\n",
    "\n",
    "data['time'] = np.where(\n",
    "\n",
    "        ((data['SG_UF_ESC'].isin(['MA', 'CE', 'PA'])) & (data['NU_ANO'] > 2019)) \n",
    "        |\n",
    "        ((data['SG_UF_ESC'] == 'PI') & (data['NU_ANO'] > 2020)), \n",
    "     1, \n",
    "     0)\n",
    "\n",
    "data['treated'] = np.where(data['SG_UF_ESC'].isin(['MA', 'CE', 'PA', 'PI']), 1, 0)\n",
    "\n",
    "data['did'] = data['time'] * data['treated']\n",
    "\n",
    "data['NAO_BRANCO'] = np.where(~data['TP_COR_RACA'].isin([1,4]), 1, 0)\n",
    "data['MULHER'] = np.where(data['TP_SEXO'] == 'F', 1, 0)\n",
    "data.drop(columns=['TP_SEXO'], inplace=True)\n",
    "\n",
    "data.Q002 = data.Q002.fillna('H')\n",
    "data.Q001 = data.Q001.fillna('H')\n",
    "#data.Q006 = data.Q006.fillna(0)\n",
    "\n",
    "data.IND_CASA = data.IND_CASA.fillna(0)\n",
    "data.IND_CASA = data.IND_CASA.apply(lambda x: np.round(x, 2))"
   ]
  },
  {
   "cell_type": "code",
   "execution_count": 40,
   "metadata": {},
   "outputs": [],
   "source": [
    "le = LabelEncoder()\n",
    "for col in ['Q001', 'Q002', 'Q006', 'Q022', 'Q024']:\n",
    "    arr = data[col].values\n",
    "    le.fit(arr)\n",
    "    data[col] = le.transform(arr)\n",
    "data.Q001 = data.Q001 + 1\n",
    "data.Q002 = data.Q002 + 1\n",
    "data.Q001 = data.Q001.replace(8,0)\n",
    "data.Q002 = data.Q002.replace(8,0) "
   ]
  },
  {
   "cell_type": "code",
   "execution_count": 46,
   "metadata": {},
   "outputs": [],
   "source": [
    "data.dropna(subset=['NT_MEDIA'], inplace=True)"
   ]
  },
  {
   "cell_type": "code",
   "execution_count": 47,
   "metadata": {},
   "outputs": [],
   "source": [
    "def return_nan(df):\n",
    "    na_cols = list()\n",
    "    for col in df.columns:\n",
    "        if df[col].isna().any():\n",
    "            print(col, df[col].isna().sum())\n",
    "            na_cols.append(col)\n",
    "    return na_cols"
   ]
  },
  {
   "cell_type": "code",
   "execution_count": 48,
   "metadata": {},
   "outputs": [
    {
     "name": "stdout",
     "output_type": "stream",
     "text": [
      "TP_ESTADO_CIVIL 13752\n",
      "Q005 3412\n",
      "Q025 3412\n"
     ]
    }
   ],
   "source": [
    "na_cols = return_nan(data)"
   ]
  },
  {
   "cell_type": "code",
   "execution_count": 49,
   "metadata": {},
   "outputs": [],
   "source": [
    "data.dropna(subset=na_cols, inplace=True)"
   ]
  },
  {
   "cell_type": "code",
   "execution_count": 50,
   "metadata": {},
   "outputs": [],
   "source": [
    "# Salvando dataset com label de tratamento para Matching no R\n",
    "data.to_parquet('../../Resultados/Agg/ENEM/aux/dados_para_matching.parquet')"
   ]
  },
  {
   "cell_type": "markdown",
   "metadata": {},
   "source": [
    "### Visualizando tratamento"
   ]
  },
  {
   "cell_type": "code",
   "execution_count": 27,
   "metadata": {},
   "outputs": [],
   "source": [
    "data = pd.read_parquet('../../Resultados/Agg/ENEM/aux/dados_para_matching.parquet')"
   ]
  },
  {
   "cell_type": "code",
   "execution_count": 17,
   "metadata": {},
   "outputs": [],
   "source": [
    "estados = [\"MA\", \"PI\", \"RN\", \"PB\", \"PE\", \"AL\", \"SE\", \"PA\", \"CE\"]"
   ]
  },
  {
   "cell_type": "code",
   "execution_count": 26,
   "metadata": {},
   "outputs": [
    {
     "data": {
      "text/html": [
       "<div>\n",
       "<style scoped>\n",
       "    .dataframe tbody tr th:only-of-type {\n",
       "        vertical-align: middle;\n",
       "    }\n",
       "\n",
       "    .dataframe tbody tr th {\n",
       "        vertical-align: top;\n",
       "    }\n",
       "\n",
       "    .dataframe thead th {\n",
       "        text-align: right;\n",
       "    }\n",
       "</style>\n",
       "<table border=\"1\" class=\"dataframe\">\n",
       "  <thead>\n",
       "    <tr style=\"text-align: right;\">\n",
       "      <th></th>\n",
       "      <th></th>\n",
       "      <th>proporcao_internet</th>\n",
       "    </tr>\n",
       "    <tr>\n",
       "      <th>SG_UF_ESC</th>\n",
       "      <th>Q025</th>\n",
       "      <th></th>\n",
       "    </tr>\n",
       "  </thead>\n",
       "  <tbody>\n",
       "    <tr>\n",
       "      <th rowspan=\"2\" valign=\"top\">AL</th>\n",
       "      <th>1.0</th>\n",
       "      <td>3249</td>\n",
       "    </tr>\n",
       "    <tr>\n",
       "      <th>0.0</th>\n",
       "      <td>939</td>\n",
       "    </tr>\n",
       "    <tr>\n",
       "      <th rowspan=\"2\" valign=\"top\">CE</th>\n",
       "      <th>1.0</th>\n",
       "      <td>26412</td>\n",
       "    </tr>\n",
       "    <tr>\n",
       "      <th>0.0</th>\n",
       "      <td>16354</td>\n",
       "    </tr>\n",
       "    <tr>\n",
       "      <th rowspan=\"2\" valign=\"top\">MA</th>\n",
       "      <th>1.0</th>\n",
       "      <td>6167</td>\n",
       "    </tr>\n",
       "    <tr>\n",
       "      <th>0.0</th>\n",
       "      <td>4412</td>\n",
       "    </tr>\n",
       "    <tr>\n",
       "      <th rowspan=\"2\" valign=\"top\">PA</th>\n",
       "      <th>1.0</th>\n",
       "      <td>7016</td>\n",
       "    </tr>\n",
       "    <tr>\n",
       "      <th>0.0</th>\n",
       "      <td>5452</td>\n",
       "    </tr>\n",
       "    <tr>\n",
       "      <th rowspan=\"2\" valign=\"top\">PB</th>\n",
       "      <th>1.0</th>\n",
       "      <td>5441</td>\n",
       "    </tr>\n",
       "    <tr>\n",
       "      <th>0.0</th>\n",
       "      <td>1468</td>\n",
       "    </tr>\n",
       "    <tr>\n",
       "      <th rowspan=\"2\" valign=\"top\">PE</th>\n",
       "      <th>1.0</th>\n",
       "      <td>14914</td>\n",
       "    </tr>\n",
       "    <tr>\n",
       "      <th>0.0</th>\n",
       "      <td>2541</td>\n",
       "    </tr>\n",
       "    <tr>\n",
       "      <th rowspan=\"2\" valign=\"top\">PI</th>\n",
       "      <th>1.0</th>\n",
       "      <td>3528</td>\n",
       "    </tr>\n",
       "    <tr>\n",
       "      <th>0.0</th>\n",
       "      <td>2256</td>\n",
       "    </tr>\n",
       "    <tr>\n",
       "      <th rowspan=\"2\" valign=\"top\">RN</th>\n",
       "      <th>1.0</th>\n",
       "      <td>3532</td>\n",
       "    </tr>\n",
       "    <tr>\n",
       "      <th>0.0</th>\n",
       "      <td>739</td>\n",
       "    </tr>\n",
       "    <tr>\n",
       "      <th rowspan=\"2\" valign=\"top\">SE</th>\n",
       "      <th>1.0</th>\n",
       "      <td>2299</td>\n",
       "    </tr>\n",
       "    <tr>\n",
       "      <th>0.0</th>\n",
       "      <td>1131</td>\n",
       "    </tr>\n",
       "  </tbody>\n",
       "</table>\n",
       "</div>"
      ],
      "text/plain": [
       "                proporcao_internet\n",
       "SG_UF_ESC Q025                    \n",
       "AL        1.0                 3249\n",
       "          0.0                  939\n",
       "CE        1.0                26412\n",
       "          0.0                16354\n",
       "MA        1.0                 6167\n",
       "          0.0                 4412\n",
       "PA        1.0                 7016\n",
       "          0.0                 5452\n",
       "PB        1.0                 5441\n",
       "          0.0                 1468\n",
       "PE        1.0                14914\n",
       "          0.0                 2541\n",
       "PI        1.0                 3528\n",
       "          0.0                 2256\n",
       "RN        1.0                 3532\n",
       "          0.0                  739\n",
       "SE        1.0                 2299\n",
       "          0.0                 1131"
      ]
     },
     "execution_count": 26,
     "metadata": {},
     "output_type": "execute_result"
    }
   ],
   "source": [
    "data[(data['SG_UF_ESC'].isin(estados)) & (data['NU_ANO'] == 2020)].groupby('SG_UF_ESC').agg(proporcao_internet=('Q025','value_counts'))"
   ]
  },
  {
   "cell_type": "markdown",
   "metadata": {},
   "source": [
    "Evolução interior nos estados tratados"
   ]
  },
  {
   "cell_type": "code",
   "execution_count": 47,
   "metadata": {},
   "outputs": [
    {
     "data": {
      "image/png": "[encoded data removed]",
      "text/plain": [
       "<Figure size 1500x800 with 4 Axes>"
      ]
     },
     "metadata": {},
     "output_type": "display_data"
    }
   ],
   "source": [
    "fig, ax = plt.subplots(2,2,figsize=(15,8))\n",
    "ax = ax.flatten()\n",
    "tratados = [\"MA\",\"CE\",\"PA\",\"PI\"]\n",
    "sns.set_style(\"whitegrid\")\n",
    "for i, estado in enumerate(tratados):\n",
    "    sel = data.query(f'SG_UF_ESC == \"{estado}\"').reset_index(drop=True)\n",
    "    ax[i] = sns.lineplot(data=sel, x='NU_ANO', y='NT_MEDIA', hue='Q025', ax=ax[i])\n",
    "    ax[i].set_title(f'Tedendência para {estado}')\n",
    "\n",
    "plt.tight_layout()\n",
    "\n",
    "plt.show()"
   ]
  },
  {
   "cell_type": "markdown",
   "metadata": {},
   "source": [
    "### Matching\n",
    "\n",
    "Para o processamento se assimilar ao máximo a um experimento \"fully blocked\", é necessário realizar o matching entre os grupos de controle e tratamento. Com isso, tenta eliminar-se vieses e desbalanceamento na análise.\n",
    "\n",
    "#### Mahalanobis Distance Matching\n",
    "$Distance(X_i, X_j) = \\sqrt{(X_i - X_j)^T \\Sigma^{-1} (X_i - X_j)}$\n",
    "\n",
    "\"It is like an euclidean distance, but you standarize all the variables\" - Prof. Gary King\n",
    "\n",
    "- Match each treated unit to a control unit with the smallest distance\n",
    "- Control units not reused, pruned if unused\n",
    "- Prune matches if Distance > caliper\n",
    "\n",
    "Considerations: \n",
    "The standarization used in mahalanobis method is a function of the dataset, wich is not ideal. \"Mahalanobis is for methodologists, in applications, use Euclidean distance\" - Prof. Gary King\n",
    "\n",
    "#### Coarsened Exact Matching\n",
    "$X_i = (X_{i1}, X_{i2}, ..., X_{in})$ Covariates\n",
    "\n",
    "$C(X_i) = coarsen(X_i)$\n",
    "\n",
    "- Coarsen covariates\n",
    "- Apply exact matching on coarsened covariates\n",
    "- Prune data and apply wheigthing\n"
   ]
  },
  {
   "cell_type": "markdown",
   "metadata": {},
   "source": [
    "### Análise para notas"
   ]
  },
  {
   "cell_type": "code",
   "execution_count": null,
   "metadata": {},
   "outputs": [],
   "source": [
    "data2 = data.dropna(subset=['NU_NOTA_MT'])"
   ]
  },
  {
   "cell_type": "code",
   "execution_count": null,
   "metadata": {},
   "outputs": [],
   "source": [
    "y = data2['NU_NOTA_MT']\n",
    "x = data2[['time', 'treated', 'did', 'NAO_BRANCO', 'IND_CASA', 'Q006']]"
   ]
  },
  {
   "cell_type": "code",
   "execution_count": null,
   "metadata": {},
   "outputs": [
    {
     "name": "stdout",
     "output_type": "stream",
     "text": [
      "y: False\n",
      "x time          False\n",
      "treated       False\n",
      "did           False\n",
      "NAO_BRANCO    False\n",
      "IND_CASA      False\n",
      "Q006          False\n",
      "dtype: bool\n"
     ]
    }
   ],
   "source": [
    "print('y:', y.isna().any())\n",
    "print('x', x.isna().any())"
   ]
  },
  {
   "cell_type": "code",
   "execution_count": null,
   "metadata": {},
   "outputs": [],
   "source": [
    "y = y.astype(int)"
   ]
  },
  {
   "cell_type": "code",
   "execution_count": null,
   "metadata": {},
   "outputs": [
    {
     "name": "stdout",
     "output_type": "stream",
     "text": [
      "                            OLS Regression Results                            \n",
      "==============================================================================\n",
      "Dep. Variable:             NU_NOTA_MT   R-squared:                       0.052\n",
      "Model:                            OLS   Adj. R-squared:                  0.052\n",
      "Method:                 Least Squares   F-statistic:                     8377.\n",
      "Date:                Thu, 08 Sep 2022   Prob (F-statistic):               0.00\n",
      "Time:                        10:16:13   Log-Likelihood:            -4.4857e+06\n",
      "No. Observations:              769620   AIC:                         8.971e+06\n",
      "Df Residuals:                  769614   BIC:                         8.971e+06\n",
      "Df Model:                           5                                         \n",
      "Covariance Type:            nonrobust                                         \n",
      "==============================================================================\n",
      "                 coef    std err          t      P>|t|      [0.025      0.975]\n",
      "------------------------------------------------------------------------------\n",
      "const        460.5205      0.391   1178.609      0.000     459.755     461.286\n",
      "time          -5.1868      0.132    -39.230      0.000      -5.446      -4.928\n",
      "treated       -1.0758      0.211     -5.105      0.000      -1.489      -0.663\n",
      "did           -5.1868      0.132    -39.230      0.000      -5.446      -4.928\n",
      "NAO_BRANCO   -11.0255      0.237    -46.604      0.000     -11.489     -10.562\n",
      "IND_CASA       2.1139      0.054     38.869      0.000       2.007       2.220\n",
      "Q006           9.5440      0.068    139.790      0.000       9.410       9.678\n",
      "==============================================================================\n",
      "Omnibus:                    54716.710   Durbin-Watson:                   1.960\n",
      "Prob(Omnibus):                  0.000   Jarque-Bera (JB):            67421.400\n",
      "Skew:                           0.692   Prob(JB):                         0.00\n",
      "Kurtosis:                       3.433   Cond. No.                     1.68e+17\n",
      "==============================================================================\n",
      "\n",
      "Notes:\n",
      "[1] Standard Errors assume that the covariance matrix of the errors is correctly specified.\n",
      "[2] The smallest eigenvalue is 1.31e-27. This might indicate that there are\n",
      "strong multicollinearity problems or that the design matrix is singular.\n"
     ]
    }
   ],
   "source": [
    "X = sm.add_constant(x)\n",
    "est = sm.OLS(y, X)\n",
    "est2 = est.fit()\n",
    "print(est2.summary())"
   ]
  },
  {
   "cell_type": "markdown",
   "metadata": {},
   "source": [
    "### Análise para presença de internet"
   ]
  },
  {
   "cell_type": "markdown",
   "metadata": {},
   "source": [
    "Carregando a inserindo dados do auxílio emergencial"
   ]
  },
  {
   "cell_type": "code",
   "execution_count": null,
   "metadata": {},
   "outputs": [],
   "source": [
    "f = '../../Dados/Auxilio Emerg/beneficio_*.csv'\n",
    "auxi = pd.concat([read_and_label_year(f) for f in glob.glob(f)])"
   ]
  },
  {
   "cell_type": "code",
   "execution_count": null,
   "metadata": {},
   "outputs": [],
   "source": [
    "data.NO_MUNICIPIO_ESC = data.NO_MUNICIPIO_ESC.str.upper()"
   ]
  },
  {
   "cell_type": "code",
   "execution_count": null,
   "metadata": {},
   "outputs": [],
   "source": [
    "# Correção de nomes de municípios\n",
    "auxi['Município'] = auxi['Município'].replace({\n",
    "    'SANTA ISABEL DO PARÁ':'SANTA IZABEL DO PARÁ',\n",
    "    'ITAPAGÉ':'ITAPAJÉ',\n",
    "    'ARAÇAS':'ARAÇÁS',\n",
    "    'IGUARACI':'IGUARACY',\n",
    "    'SÃO VICENTE FÉRRER':'SÃO VICENTE FERRER',\n",
    "    'ELDORADO DOS CARAJÁS':'ELDORADO DO CARAJÁS',\n",
    "    \"OLHO-D'ÁGUA DO BORGES\":\"OLHO D'ÁGUA DO BORGES\",\n",
    "    'IUIÚ':'IUIU',\n",
    "    'MUQUÉM DE SÃO FRANCISCO':'MUQUÉM DO SÃO FRANCISCO',\n",
    "    'ERERÉ':'ERERÊ',\n",
    "    'AMPARO DO SÃO FRANCISCO':'AMPARO DE SÃO FRANCISCO',\n",
    "    })\n",
    "data.NO_MUNICIPIO_ESC = data.NO_MUNICIPIO_ESC.replace({\n",
    "    'SÃO VICENTE FÉRRER':'SÃO VICENTE FERRER',\n",
    "    'AMPARO DO SÃO FRANCISCO':'AMPARO DE SÃO FRANCISCO',\n",
    "    'ERERÉ':'ERERÊ',\n",
    "    })"
   ]
  },
  {
   "cell_type": "code",
   "execution_count": null,
   "metadata": {},
   "outputs": [
    {
     "data": {
      "text/plain": [
       "array(['SERRA CAIADA'], dtype=object)"
      ]
     },
     "metadata": {},
     "output_type": "display_data"
    }
   ],
   "source": [
    "data[~data.NO_MUNICIPIO_ESC.isin(auxi['Município'].unique())].NO_MUNICIPIO_ESC.unique()"
   ]
  },
  {
   "cell_type": "code",
   "execution_count": null,
   "metadata": {},
   "outputs": [],
   "source": [
    "auxi.rename(columns={'Município':'NO_MUNICIPIO_ESC', 'ANO':'NU_ANO', 'Valor Transferido': 'AUX_EMERG'}, inplace=True)\n",
    "auxi.NU_ANO = auxi.NU_ANO.astype(int)\n",
    "merged = pd.merge(data, auxi[['NO_MUNICIPIO_ESC', 'NU_ANO','AUX_EMERG']], on=['NO_MUNICIPIO_ESC', 'NU_ANO'], how='left')"
   ]
  },
  {
   "cell_type": "code",
   "execution_count": null,
   "metadata": {},
   "outputs": [],
   "source": [
    "merged.AUX_EMERG = merged.AUX_EMERG.fillna(0)\n",
    "merged.AUX_EMERG = (merged.AUX_EMERG-merged.AUX_EMERG.min())/(merged.AUX_EMERG.max()-merged.AUX_EMERG.min())"
   ]
  },
  {
   "cell_type": "code",
   "execution_count": 1,
   "metadata": {},
   "outputs": [
    {
     "ename": "NameError",
     "evalue": "name 'pd' is not defined",
     "output_type": "error",
     "traceback": [
      "\u001b[0;31m---------------------------------------------------------------------------\u001b[0m",
      "\u001b[0;31mNameError\u001b[0m                                 Traceback (most recent call last)",
      "\u001b[1;32m/home/joao/documents/Gabinete/Relatórios/Relatorio-Conectividade/Analise/Models/Diffs_in_Diffs.ipynb Cell 47\u001b[0m in \u001b[0;36m<cell line: 2>\u001b[0;34m()\u001b[0m\n\u001b[1;32m      <a href='vscode-notebook-cell:/home/joao/documents/Gabinete/Relat%C3%B3rios/Relatorio-Conectividade/Analise/Models/Diffs_in_Diffs.ipynb#X64sZmlsZQ%3D%3D?line=0'>1</a>\u001b[0m \u001b[39m# Inserindo partido dos governos estaduais\u001b[39;00m\n\u001b[0;32m----> <a href='vscode-notebook-cell:/home/joao/documents/Gabinete/Relat%C3%B3rios/Relatorio-Conectividade/Analise/Models/Diffs_in_Diffs.ipynb#X64sZmlsZQ%3D%3D?line=1'>2</a>\u001b[0m gov \u001b[39m=\u001b[39m pd\u001b[39m.\u001b[39mread_csv(\u001b[39m'\u001b[39m\u001b[39m../../Dados/Auxiliares/GovernosEstaduais.csv\u001b[39m\u001b[39m'\u001b[39m, decimal\u001b[39m=\u001b[39m\u001b[39m'\u001b[39m\u001b[39m,\u001b[39m\u001b[39m'\u001b[39m, thousands\u001b[39m=\u001b[39m\u001b[39m'\u001b[39m\u001b[39m.\u001b[39m\u001b[39m'\u001b[39m)\n\u001b[1;32m      <a href='vscode-notebook-cell:/home/joao/documents/Gabinete/Relat%C3%B3rios/Relatorio-Conectividade/Analise/Models/Diffs_in_Diffs.ipynb#X64sZmlsZQ%3D%3D?line=2'>3</a>\u001b[0m gov\u001b[39m.\u001b[39mcolumns \u001b[39m=\u001b[39m [\u001b[39m'\u001b[39m\u001b[39mUF\u001b[39m\u001b[39m'\u001b[39m,\u001b[39m'\u001b[39m\u001b[39mSG_UF_ESC\u001b[39m\u001b[39m'\u001b[39m,\u001b[39m'\u001b[39m\u001b[39mGOV\u001b[39m\u001b[39m'\u001b[39m,\u001b[39m'\u001b[39m\u001b[39mPARTIDO\u001b[39m\u001b[39m'\u001b[39m,\u001b[39m'\u001b[39m\u001b[39mPERIODO\u001b[39m\u001b[39m'\u001b[39m,\u001b[39m'\u001b[39m\u001b[39mNOTAS\u001b[39m\u001b[39m'\u001b[39m,\u001b[39m'\u001b[39m\u001b[39mINDICE\u001b[39m\u001b[39m'\u001b[39m]\n\u001b[1;32m      <a href='vscode-notebook-cell:/home/joao/documents/Gabinete/Relat%C3%B3rios/Relatorio-Conectividade/Analise/Models/Diffs_in_Diffs.ipynb#X64sZmlsZQ%3D%3D?line=3'>4</a>\u001b[0m gov \u001b[39m=\u001b[39m gov[[\u001b[39m'\u001b[39m\u001b[39mSG_UF_ESC\u001b[39m\u001b[39m'\u001b[39m,\u001b[39m'\u001b[39m\u001b[39mINDICE\u001b[39m\u001b[39m'\u001b[39m]]\n",
      "\u001b[0;31mNameError\u001b[0m: name 'pd' is not defined"
     ]
    }
   ],
   "source": [
    "# Inserindo partido dos governos estaduais\n",
    "gov = pd.read_csv('../../Dados/Auxiliares/GovernosEstaduais.csv', decimal=',', thousands='.')\n",
    "gov.columns = ['UF','SG_UF_ESC','GOV','PARTIDO','PERIODO','NOTAS','INDICE']\n",
    "gov = gov[['SG_UF_ESC','INDICE']]\n",
    "#gov = pd.get_dummies(gov, columns=['PARTIDO'], prefix='PARTIDO')"
   ]
  },
  {
   "cell_type": "code",
   "execution_count": 16,
   "metadata": {},
   "outputs": [],
   "source": [
    "merged = merged.merge(gov, on='SG_UF_ESC', how='left')"
   ]
  },
  {
   "cell_type": "code",
   "execution_count": 17,
   "metadata": {},
   "outputs": [],
   "source": [
    "# inserindo desempenho no ideb\n",
    "ideb = pd.read_csv('../../Dados/Auxiliares/idebPorEstado.csv')\n",
    "merged = merged.merge(ideb, on='SG_UF_ESC', how='left')"
   ]
  },
  {
   "cell_type": "code",
   "execution_count": 18,
   "metadata": {},
   "outputs": [],
   "source": [
    "# inserindo IDH estadual\n",
    "idh = pd.read_csv('../../Dados/Auxiliares/idh_estadual_2010_cleaned.csv').rename(columns={'SG_UE':'SG_UF_ESC'})\n",
    "merged = merged.merge(idh, on='SG_UF_ESC', how='left')"
   ]
  },
  {
   "cell_type": "code",
   "execution_count": 19,
   "metadata": {},
   "outputs": [],
   "source": [
    "merged.dropna(subset=['Q025'], inplace=True)"
   ]
  },
  {
   "cell_type": "code",
   "execution_count": 20,
   "metadata": {},
   "outputs": [],
   "source": [
    "y = merged['Q025'].values\n",
    "d = merged['treated'].values\n",
    "x = merged[['time', 'treated', 'did', 'NAO_BRANCO', 'IND_CASA', 'Q006', 'AUX_EMERG']]\n",
    "cofounders = ['NAO_BRANCO', 'IND_CASA', 'Q006', 'AUX_EMERG','NOTA19', 'INDICE','IDHM_RENDA', 'IDHM_LONGEVIDADE', 'IDHM_EDUCACAO']"
   ]
  },
  {
   "cell_type": "code",
   "execution_count": 21,
   "metadata": {},
   "outputs": [],
   "source": [
    "from causalinference import CausalModel\n",
    "model = CausalModel(y,d,merged[cofounders].values)"
   ]
  },
  {
   "cell_type": "code",
   "execution_count": 22,
   "metadata": {},
   "outputs": [
    {
     "name": "stderr",
     "output_type": "stream",
     "text": [
      "/home/joao/anaconda3/envs/scraping/lib/python3.9/site-packages/causalinference/core/propensity.py:173: RuntimeWarning: invalid value encountered in sqrt\n",
      "  return np.sqrt(np.diag(np.linalg.inv(H)))\n"
     ]
    }
   ],
   "source": [
    "model.est_propensity()"
   ]
  },
  {
   "cell_type": "code",
   "execution_count": 23,
   "metadata": {},
   "outputs": [
    {
     "name": "stdout",
     "output_type": "stream",
     "text": [
      "\n",
      "Estimated Parameters of Propensity Score\n",
      "\n",
      "                    Coef.       S.e.          z      P>|z|      [95% Conf. int.]\n",
      "--------------------------------------------------------------------------------\n",
      "     Intercept   -629.409463466079.601     -0.000      1.000-908394145.427908392886.608\n",
      "            X0      0.474   1973.349      0.000      1.000  -3867.290   3868.238\n",
      "            X1      0.031    394.644      0.000      1.000   -773.472    773.534\n",
      "            X2     -0.422    275.496     -0.002      0.999   -540.395    539.552\n",
      "            X3      1.130  15052.872      0.000      1.000 -29502.498  29504.759\n",
      "            X4      2.76544492908.633      0.000      1.000-87206098.15587206103.685\n",
      "            X5     17.497132964661.737      0.000      1.000-260610719.507260610754.501\n",
      "            X6  -3258.848389119403.661     -0.000      1.000-762677290.024762670772.329\n",
      "            X7   3262.407546594187.998      0.000      1.000-1071321346.0681071327870.882\n",
      "            X8    234.454        nan        nan        nan        nan        nan\n",
      "\n"
     ]
    }
   ],
   "source": [
    "print(model.propensity)"
   ]
  },
  {
   "cell_type": "code",
   "execution_count": 25,
   "metadata": {},
   "outputs": [
    {
     "name": "stderr",
     "output_type": "stream",
     "text": [
      "/tmp/ipykernel_31192/1818189395.py:1: SettingWithCopyWarning: \n",
      "A value is trying to be set on a copy of a slice from a DataFrame.\n",
      "Try using .loc[row_indexer,col_indexer] = value instead\n",
      "\n",
      "See the caveats in the documentation: https://pandas.pydata.org/pandas-docs/stable/user_guide/indexing.html#returning-a-view-versus-a-copy\n",
      "  x['score'] = model.propensity['fitted']\n"
     ]
    }
   ],
   "source": [
    "x['score'] = model.propensity['fitted']"
   ]
  },
  {
   "cell_type": "code",
   "execution_count": 24,
   "metadata": {},
   "outputs": [],
   "source": [
    "pd.set_option('display.float_format', lambda x: '%.3f' % x)"
   ]
  },
  {
   "cell_type": "code",
   "execution_count": 27,
   "metadata": {},
   "outputs": [
    {
     "data": {
      "text/html": [
       "<div>\n",
       "<style scoped>\n",
       "    .dataframe tbody tr th:only-of-type {\n",
       "        vertical-align: middle;\n",
       "    }\n",
       "\n",
       "    .dataframe tbody tr th {\n",
       "        vertical-align: top;\n",
       "    }\n",
       "\n",
       "    .dataframe thead th {\n",
       "        text-align: right;\n",
       "    }\n",
       "</style>\n",
       "<table border=\"1\" class=\"dataframe\">\n",
       "  <thead>\n",
       "    <tr style=\"text-align: right;\">\n",
       "      <th></th>\n",
       "      <th>treated</th>\n",
       "      <th>score</th>\n",
       "    </tr>\n",
       "  </thead>\n",
       "  <tbody>\n",
       "    <tr>\n",
       "      <th>0</th>\n",
       "      <td>0</td>\n",
       "      <td>0.000</td>\n",
       "    </tr>\n",
       "    <tr>\n",
       "      <th>1</th>\n",
       "      <td>1</td>\n",
       "      <td>1.000</td>\n",
       "    </tr>\n",
       "    <tr>\n",
       "      <th>2</th>\n",
       "      <td>0</td>\n",
       "      <td>0.000</td>\n",
       "    </tr>\n",
       "    <tr>\n",
       "      <th>3</th>\n",
       "      <td>0</td>\n",
       "      <td>0.000</td>\n",
       "    </tr>\n",
       "    <tr>\n",
       "      <th>4</th>\n",
       "      <td>1</td>\n",
       "      <td>1.000</td>\n",
       "    </tr>\n",
       "    <tr>\n",
       "      <th>...</th>\n",
       "      <td>...</td>\n",
       "      <td>...</td>\n",
       "    </tr>\n",
       "    <tr>\n",
       "      <th>1097274</th>\n",
       "      <td>1</td>\n",
       "      <td>1.000</td>\n",
       "    </tr>\n",
       "    <tr>\n",
       "      <th>1097275</th>\n",
       "      <td>0</td>\n",
       "      <td>0.000</td>\n",
       "    </tr>\n",
       "    <tr>\n",
       "      <th>1097276</th>\n",
       "      <td>0</td>\n",
       "      <td>0.000</td>\n",
       "    </tr>\n",
       "    <tr>\n",
       "      <th>1097277</th>\n",
       "      <td>0</td>\n",
       "      <td>0.000</td>\n",
       "    </tr>\n",
       "    <tr>\n",
       "      <th>1097278</th>\n",
       "      <td>0</td>\n",
       "      <td>0.000</td>\n",
       "    </tr>\n",
       "  </tbody>\n",
       "</table>\n",
       "<p>1095953 rows × 2 columns</p>\n",
       "</div>"
      ],
      "text/plain": [
       "         treated  score\n",
       "0              0  0.000\n",
       "1              1  1.000\n",
       "2              0  0.000\n",
       "3              0  0.000\n",
       "4              1  1.000\n",
       "...          ...    ...\n",
       "1097274        1  1.000\n",
       "1097275        0  0.000\n",
       "1097276        0  0.000\n",
       "1097277        0  0.000\n",
       "1097278        0  0.000\n",
       "\n",
       "[1095953 rows x 2 columns]"
      ]
     },
     "execution_count": 27,
     "metadata": {},
     "output_type": "execute_result"
    }
   ],
   "source": [
    "x[['treated','score']]"
   ]
  },
  {
   "cell_type": "code",
   "execution_count": 169,
   "metadata": {},
   "outputs": [
    {
     "ename": "ValueError",
     "evalue": "Too few control units: N_c < K+1",
     "output_type": "error",
     "traceback": [
      "\u001b[0;31m---------------------------------------------------------------------------\u001b[0m",
      "\u001b[0;31mValueError\u001b[0m                                Traceback (most recent call last)",
      "\u001b[1;32m/home/joao/documents/Gabinete/Relatórios/Relatorio-Conectividade/Analise/Models/Diffs_in_Diffs.ipynb Cell 59\u001b[0m in \u001b[0;36m<cell line: 1>\u001b[0;34m()\u001b[0m\n\u001b[0;32m----> <a href='vscode-notebook-cell:/home/joao/documents/Gabinete/Relat%C3%B3rios/Relatorio-Conectividade/Analise/Models/Diffs_in_Diffs.ipynb#Y162sZmlsZQ%3D%3D?line=0'>1</a>\u001b[0m model\u001b[39m.\u001b[39;49mtrim()\n",
      "File \u001b[0;32m~/anaconda3/envs/scraping/lib/python3.9/site-packages/causalinference/causal.py:137\u001b[0m, in \u001b[0;36mCausalModel.trim\u001b[0;34m(self)\u001b[0m\n\u001b[1;32m    135\u001b[0m D_trimmed \u001b[39m=\u001b[39m \u001b[39mself\u001b[39m\u001b[39m.\u001b[39mraw_data[\u001b[39m'\u001b[39m\u001b[39mD\u001b[39m\u001b[39m'\u001b[39m][keep]\n\u001b[1;32m    136\u001b[0m X_trimmed \u001b[39m=\u001b[39m \u001b[39mself\u001b[39m\u001b[39m.\u001b[39mraw_data[\u001b[39m'\u001b[39m\u001b[39mX\u001b[39m\u001b[39m'\u001b[39m][keep]\n\u001b[0;32m--> 137\u001b[0m \u001b[39mself\u001b[39m\u001b[39m.\u001b[39mraw_data \u001b[39m=\u001b[39m Data(Y_trimmed, D_trimmed, X_trimmed)\n\u001b[1;32m    138\u001b[0m \u001b[39mself\u001b[39m\u001b[39m.\u001b[39mraw_data\u001b[39m.\u001b[39m_dict[\u001b[39m'\u001b[39m\u001b[39mpscore\u001b[39m\u001b[39m'\u001b[39m] \u001b[39m=\u001b[39m pscore[keep]\n\u001b[1;32m    139\u001b[0m \u001b[39mself\u001b[39m\u001b[39m.\u001b[39msummary_stats \u001b[39m=\u001b[39m Summary(\u001b[39mself\u001b[39m\u001b[39m.\u001b[39mraw_data)\n",
      "File \u001b[0;32m~/anaconda3/envs/scraping/lib/python3.9/site-packages/causalinference/core/data.py:63\u001b[0m, in \u001b[0;36mData.__init__\u001b[0;34m(self, outcome, treatment, covariates)\u001b[0m\n\u001b[1;32m     61\u001b[0m \u001b[39mself\u001b[39m\u001b[39m.\u001b[39m_dict[\u001b[39m'\u001b[39m\u001b[39mN_c\u001b[39m\u001b[39m'\u001b[39m] \u001b[39m=\u001b[39m \u001b[39mself\u001b[39m\u001b[39m.\u001b[39m_dict[\u001b[39m'\u001b[39m\u001b[39mN\u001b[39m\u001b[39m'\u001b[39m] \u001b[39m-\u001b[39m \u001b[39mself\u001b[39m\u001b[39m.\u001b[39m_dict[\u001b[39m'\u001b[39m\u001b[39mN_t\u001b[39m\u001b[39m'\u001b[39m]\n\u001b[1;32m     62\u001b[0m \u001b[39mif\u001b[39;00m \u001b[39mself\u001b[39m\u001b[39m.\u001b[39m_dict[\u001b[39m'\u001b[39m\u001b[39mK\u001b[39m\u001b[39m'\u001b[39m]\u001b[39m+\u001b[39m\u001b[39m1\u001b[39m \u001b[39m>\u001b[39m \u001b[39mself\u001b[39m\u001b[39m.\u001b[39m_dict[\u001b[39m'\u001b[39m\u001b[39mN_c\u001b[39m\u001b[39m'\u001b[39m]:\n\u001b[0;32m---> 63\u001b[0m \t\u001b[39mraise\u001b[39;00m \u001b[39mValueError\u001b[39;00m(\u001b[39m'\u001b[39m\u001b[39mToo few control units: N_c < K+1\u001b[39m\u001b[39m'\u001b[39m)\n\u001b[1;32m     64\u001b[0m \u001b[39mif\u001b[39;00m \u001b[39mself\u001b[39m\u001b[39m.\u001b[39m_dict[\u001b[39m'\u001b[39m\u001b[39mK\u001b[39m\u001b[39m'\u001b[39m]\u001b[39m+\u001b[39m\u001b[39m1\u001b[39m \u001b[39m>\u001b[39m \u001b[39mself\u001b[39m\u001b[39m.\u001b[39m_dict[\u001b[39m'\u001b[39m\u001b[39mN_t\u001b[39m\u001b[39m'\u001b[39m]:\n\u001b[1;32m     65\u001b[0m \t\u001b[39mraise\u001b[39;00m \u001b[39mValueError\u001b[39;00m(\u001b[39m'\u001b[39m\u001b[39mToo few treated units: N_t < K+1\u001b[39m\u001b[39m'\u001b[39m)\n",
      "\u001b[0;31mValueError\u001b[0m: Too few control units: N_c < K+1"
     ]
    }
   ],
   "source": [
    "model.trim()"
   ]
  },
  {
   "cell_type": "markdown",
   "metadata": {},
   "source": []
  },
  {
   "cell_type": "code",
   "execution_count": 22,
   "metadata": {},
   "outputs": [
    {
     "name": "stdout",
     "output_type": "stream",
     "text": [
      "y: False\n",
      "x time          False\n",
      "treated       False\n",
      "did           False\n",
      "NAO_BRANCO    False\n",
      "IND_CASA      False\n",
      "Q006          False\n",
      "AUX_EMERG     False\n",
      "dtype: bool\n"
     ]
    }
   ],
   "source": [
    "print('y:', y.isna().any())\n",
    "print('x', x.isna().any())"
   ]
  },
  {
   "cell_type": "code",
   "execution_count": 23,
   "metadata": {},
   "outputs": [],
   "source": [
    "y = y.astype(int)"
   ]
  },
  {
   "cell_type": "code",
   "execution_count": 27,
   "metadata": {},
   "outputs": [
    {
     "name": "stdout",
     "output_type": "stream",
     "text": [
      "                            OLS Regression Results                            \n",
      "==============================================================================\n",
      "Dep. Variable:                   Q025   R-squared:                       0.204\n",
      "Model:                            OLS   Adj. R-squared:                  0.204\n",
      "Method:                 Least Squares   F-statistic:                     1053.\n",
      "Date:                Fri, 09 Sep 2022   Prob (F-statistic):               0.00\n",
      "Time:                        13:20:49   Log-Likelihood:            -6.5060e+05\n",
      "No. Observations:             1095953   AIC:                         1.301e+06\n",
      "Df Residuals:                 1095946   BIC:                         1.301e+06\n",
      "Df Model:                           6                                         \n",
      "Covariance Type:              cluster                                         \n",
      "==============================================================================\n",
      "                 coef    std err          z      P>|z|      [0.025      0.975]\n",
      "------------------------------------------------------------------------------\n",
      "const          0.1842      0.020      8.997      0.000       0.144       0.224\n",
      "time           0.0952      0.006     15.668      0.000       0.083       0.107\n",
      "treated       -0.2190      0.018    -12.009      0.000      -0.255      -0.183\n",
      "did            0.0952      0.006     15.668      0.000       0.083       0.107\n",
      "NAO_BRANCO    -0.0529      0.004    -13.317      0.000      -0.061      -0.045\n",
      "IND_CASA       0.0773      0.002     36.305      0.000       0.073       0.082\n",
      "Q006           0.0356      0.002     20.915      0.000       0.032       0.039\n",
      "AUX_EMERG      0.0607      0.051      1.198      0.231      -0.039       0.160\n",
      "==============================================================================\n",
      "Omnibus:                 18066705.438   Durbin-Watson:                   1.851\n",
      "Prob(Omnibus):                  0.000   Jarque-Bera (JB):            91291.143\n",
      "Skew:                          -0.203   Prob(JB):                         0.00\n",
      "Kurtosis:                       1.645   Cond. No.                     1.11e+17\n",
      "==============================================================================\n",
      "\n",
      "Notes:\n",
      "[1] Standard Errors are robust to cluster correlation (cluster)\n",
      "[2] The smallest eigenvalue is 4.1e-27. This might indicate that there are\n",
      "strong multicollinearity problems or that the design matrix is singular.\n"
     ]
    },
    {
     "name": "stderr",
     "output_type": "stream",
     "text": [
      "/home/joao/anaconda3/envs/scraping/lib/python3.9/site-packages/statsmodels/base/model.py:1871: ValueWarning: covariance of constraints does not have full rank. The number of constraints is 7, but rank is 6\n",
      "  warnings.warn('covariance of constraints does not have full '\n"
     ]
    }
   ],
   "source": [
    "X = sm.add_constant(x)\n",
    "est = sm.OLS(y, X)\n",
    "est2 = est.fit(cov_type='cluster', cov_kwds={'groups':merged['NO_MUNICIPIO_ESC']})\n",
    "# Robust standard errors: cov_type='HC3'\n",
    "print(est2.summary())"
   ]
  }
 ],
 "metadata": {
  "kernelspec": {
   "display_name": "Python 3.9.13 ('scraping')",
   "language": "python",
   "name": "python3"
  },
  "language_info": {
   "codemirror_mode": {
    "name": "ipython",
    "version": 3
   },
   "file_extension": ".py",
   "mimetype": "text/x-python",
   "name": "python",
   "nbconvert_exporter": "python",
   "pygments_lexer": "ipython3",
   "version": "3.9.13"
  },
  "orig_nbformat": 4,
  "vscode": {
   "interpreter": {
    "hash": "0b57a106df503026757037a3564c5b06bb9bd0ebd4985fd2fe126eeda7bdee66"
   }
  }
 },
 "nbformat": 4,
 "nbformat_minor": 2
}
