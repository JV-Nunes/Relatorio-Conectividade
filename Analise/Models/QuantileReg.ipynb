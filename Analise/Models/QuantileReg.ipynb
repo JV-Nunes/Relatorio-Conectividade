{
  "cells": [
    {
      "cell_type": "code",
      "execution_count": 1,
      "metadata": {
        "colab": {
          "base_uri": "https://localhost:8080/"
        },
        "id": "RLYZCiExeJ_-",
        "outputId": "85e00490-e079-42ac-8eb8-21569f6a0520"
      },
      "outputs": [],
      "source": [
        "import warnings\n",
        "import gc\n",
        "import numpy as np\n",
        "import pandas as pd\n",
        "import statsmodels.api as sm\n",
        "import statsmodels.formula.api as smf\n",
        "from statsmodels.regression.quantile_regression import QuantReg\n",
        "import matplotlib.pyplot as plt\n",
        "from sklearn.preprocessing import LabelEncoder\n",
        "import statsmodels.api as sm\n",
        "import glob"
      ]
    },
    {
      "cell_type": "code",
      "execution_count": null,
      "metadata": {
        "id": "SfkVlPbBhKGk"
      },
      "outputs": [],
      "source": [
        "pd.set_option('display.max_columns', None)"
      ]
    },
    {
      "cell_type": "markdown",
      "metadata": {
        "id": "My5-aKMphutl"
      },
      "source": [
        "## Funções"
      ]
    },
    {
      "cell_type": "code",
      "execution_count": 2,
      "metadata": {},
      "outputs": [],
      "source": [
        "def pipeline(data):\n",
        "\n",
        "    data['NAO_BRANCO'] = np.where(~data['TP_COR_RACA'].isin([1,4]), 1, 0)\n",
        "    data['MULHER'] = np.where(data['TP_SEXO'] == 'F', 1, 0)\n",
        "    data.drop(columns=['TP_SEXO'], inplace=True)\n",
        "\n",
        "    data.Q002 = data.Q002.fillna('H')\n",
        "    data.Q001 = data.Q001.fillna('H')\n",
        "    #data.Q006 = data.Q006.fillna(0)\n",
        "\n",
        "    data.IND_CASA = data.IND_CASA.fillna(0)\n",
        "    data.IND_CASA = data.IND_CASA.apply(lambda x: np.round(x, 2))\n",
        "    data['SOLTEIRO'] = np.where(data['TP_ESTADO_CIVIL'].isin([0,1]), 1, 0)\n",
        "\n",
        "    le = LabelEncoder()\n",
        "    for col in ['Q001', 'Q002', 'Q006', 'Q022', 'Q024']:\n",
        "        arr = data[col].values\n",
        "        le.fit(arr)\n",
        "        data[col] = le.transform(arr)\n",
        "    data.Q001 = data.Q001 + 1\n",
        "    data.Q002 = data.Q002 + 1\n",
        "    data.Q001 = data.Q001.replace(8,0)\n",
        "    data.Q002 = data.Q002.replace(8,0) \n",
        "\n",
        "    data.dropna(subset=['NT_MEDIA'], inplace=True)\n",
        "\n",
        "    return data"
      ]
    },
    {
      "cell_type": "code",
      "execution_count": 5,
      "metadata": {},
      "outputs": [],
      "source": [
        "def return_nan(df):\n",
        "    na_cols = list()\n",
        "    for col in df.columns:\n",
        "        if df[col].isna().any():\n",
        "            print(col, df[col].isna().sum())\n",
        "            na_cols.append(col)\n",
        "    return na_cols"
      ]
    },
    {
      "cell_type": "code",
      "execution_count": 34,
      "metadata": {
        "id": "cHPQ-8srhQKt"
      },
      "outputs": [],
      "source": [
        "def fit_model(model, q):\n",
        "    res = model.fit(\n",
        "        q=q, \n",
        "        vcov='robust',\n",
        "        kernel='epa',\n",
        "        bandwidth='hsheather', \n",
        "        max_iter=1000,\n",
        "        p_tol=1e-06\n",
        "    )\n",
        "\n",
        "    return res.summary()"
      ]
    },
    {
      "cell_type": "code",
      "execution_count": 33,
      "metadata": {
        "id": "5iJpHCzSicQr"
      },
      "outputs": [],
      "source": [
        "def create_model(df, cols):\n",
        "  mod = smf.quantreg(cols, data=df, missing='drop')\n",
        "  return mod"
      ]
    },
    {
      "cell_type": "markdown",
      "metadata": {},
      "source": [
        "# Modelo"
      ]
    },
    {
      "cell_type": "code",
      "execution_count": 16,
      "metadata": {
        "id": "f02gZob1g4wN"
      },
      "outputs": [],
      "source": [
        "data = pd.read_parquet('../../Resultados/Agg/ENEM/aux/dados_para_modelagem.parquet')"
      ]
    },
    {
      "cell_type": "code",
      "execution_count": 18,
      "metadata": {},
      "outputs": [],
      "source": [
        "data = pipeline(data)"
      ]
    },
    {
      "cell_type": "code",
      "execution_count": 21,
      "metadata": {},
      "outputs": [
        {
          "name": "stdout",
          "output_type": "stream",
          "text": [
            "CO_MUNICIPIO_ESC 812110\n",
            "NO_MUNICIPIO_ESC 812110\n",
            "SG_UF_ESC 812110\n",
            "TP_DEPENDENCIA_ADM_ESC 812110\n",
            "TP_ESTADO_CIVIL 22365\n",
            "TP_LOCALIZACAO_ESC 812110\n",
            "Q005 8133\n",
            "Q025 8133\n"
          ]
        }
      ],
      "source": [
        "na_cols = return_nan(data)\n",
        "data.dropna(subset=['CO_MUNICIPIO_ESC'], inplace=True)"
      ]
    },
    {
      "cell_type": "code",
      "execution_count": 22,
      "metadata": {},
      "outputs": [
        {
          "data": {
            "text/plain": [
              "(2943384, 26)"
            ]
          },
          "execution_count": 22,
          "metadata": {},
          "output_type": "execute_result"
        }
      ],
      "source": [
        "data.shape"
      ]
    },
    {
      "cell_type": "code",
      "execution_count": 27,
      "metadata": {},
      "outputs": [
        {
          "data": {
            "text/plain": [
              "NU_ANO\n",
              "2018.0    1022511\n",
              "2019.0     879461\n",
              "2020.0     511180\n",
              "2021.0     530232\n",
              "dtype: int64"
            ]
          },
          "execution_count": 27,
          "metadata": {},
          "output_type": "execute_result"
        }
      ],
      "source": [
        "data.groupby('NU_ANO').size()"
      ]
    },
    {
      "cell_type": "markdown",
      "metadata": {
        "id": "8bpxVK2M8LSL"
      },
      "source": [
        "### Remoção de caracteres proibidos dos nomes das colunas\n",
        "\n",
        "---\n",
        "\n"
      ]
    },
    {
      "cell_type": "code",
      "execution_count": 28,
      "metadata": {
        "colab": {
          "base_uri": "https://localhost:8080/",
          "height": 287
        },
        "id": "gtG7obma8X0H",
        "outputId": "aa75472d-1510-4a48-817b-8bde9624e593"
      },
      "outputs": [
        {
          "data": {
            "text/html": [
              "<div>\n",
              "<style scoped>\n",
              "    .dataframe tbody tr th:only-of-type {\n",
              "        vertical-align: middle;\n",
              "    }\n",
              "\n",
              "    .dataframe tbody tr th {\n",
              "        vertical-align: top;\n",
              "    }\n",
              "\n",
              "    .dataframe thead th {\n",
              "        text-align: right;\n",
              "    }\n",
              "</style>\n",
              "<table border=\"1\" class=\"dataframe\">\n",
              "  <thead>\n",
              "    <tr style=\"text-align: right;\">\n",
              "      <th></th>\n",
              "      <th>NU_ANO</th>\n",
              "      <th>CO_MUNICIPIO_ESC</th>\n",
              "      <th>NO_MUNICIPIO_ESC</th>\n",
              "      <th>SG_UF_ESC</th>\n",
              "      <th>TP_DEPENDENCIA_ADM_ESC</th>\n",
              "      <th>TP_FAIXA_ETARIA</th>\n",
              "      <th>TP_ESTADO_CIVIL</th>\n",
              "      <th>TP_COR_RACA</th>\n",
              "      <th>TP_ESCOLA</th>\n",
              "      <th>TP_LOCALIZACAO_ESC</th>\n",
              "      <th>...</th>\n",
              "      <th>Q006</th>\n",
              "      <th>Q022</th>\n",
              "      <th>Q024</th>\n",
              "      <th>Q025</th>\n",
              "      <th>IND_CASA</th>\n",
              "      <th>NT_MEDIA</th>\n",
              "      <th>LOG_NT_MEDIA</th>\n",
              "      <th>NAO_BRANCO</th>\n",
              "      <th>MULHER</th>\n",
              "      <th>SOLTEIRO</th>\n",
              "    </tr>\n",
              "  </thead>\n",
              "  <tbody>\n",
              "    <tr>\n",
              "      <th>0</th>\n",
              "      <td>2018.0</td>\n",
              "      <td>1500800</td>\n",
              "      <td>Ananindeua</td>\n",
              "      <td>PA</td>\n",
              "      <td>4.0</td>\n",
              "      <td>2.0</td>\n",
              "      <td>0.0</td>\n",
              "      <td>4.0</td>\n",
              "      <td>4.0</td>\n",
              "      <td>1.0</td>\n",
              "      <td>...</td>\n",
              "      <td>5</td>\n",
              "      <td>3</td>\n",
              "      <td>2</td>\n",
              "      <td>1.0</td>\n",
              "      <td>7.79</td>\n",
              "      <td>503.96</td>\n",
              "      <td>6.222497</td>\n",
              "      <td>0</td>\n",
              "      <td>1</td>\n",
              "      <td>1</td>\n",
              "    </tr>\n",
              "    <tr>\n",
              "      <th>2</th>\n",
              "      <td>2018.0</td>\n",
              "      <td>3155603</td>\n",
              "      <td>Rio Pardo de Minas</td>\n",
              "      <td>MG</td>\n",
              "      <td>2.0</td>\n",
              "      <td>3.0</td>\n",
              "      <td>0.0</td>\n",
              "      <td>0.0</td>\n",
              "      <td>2.0</td>\n",
              "      <td>1.0</td>\n",
              "      <td>...</td>\n",
              "      <td>1</td>\n",
              "      <td>3</td>\n",
              "      <td>0</td>\n",
              "      <td>0.0</td>\n",
              "      <td>6.79</td>\n",
              "      <td>497.84</td>\n",
              "      <td>6.210279</td>\n",
              "      <td>1</td>\n",
              "      <td>0</td>\n",
              "      <td>1</td>\n",
              "    </tr>\n",
              "    <tr>\n",
              "      <th>3</th>\n",
              "      <td>2018.0</td>\n",
              "      <td>1500800</td>\n",
              "      <td>Ananindeua</td>\n",
              "      <td>PA</td>\n",
              "      <td>4.0</td>\n",
              "      <td>2.0</td>\n",
              "      <td>0.0</td>\n",
              "      <td>3.0</td>\n",
              "      <td>4.0</td>\n",
              "      <td>1.0</td>\n",
              "      <td>...</td>\n",
              "      <td>8</td>\n",
              "      <td>3</td>\n",
              "      <td>0</td>\n",
              "      <td>1.0</td>\n",
              "      <td>7.79</td>\n",
              "      <td>675.64</td>\n",
              "      <td>6.515660</td>\n",
              "      <td>1</td>\n",
              "      <td>1</td>\n",
              "      <td>1</td>\n",
              "    </tr>\n",
              "    <tr>\n",
              "      <th>5</th>\n",
              "      <td>2018.0</td>\n",
              "      <td>3161106</td>\n",
              "      <td>São Francisco</td>\n",
              "      <td>MG</td>\n",
              "      <td>2.0</td>\n",
              "      <td>2.0</td>\n",
              "      <td>0.0</td>\n",
              "      <td>3.0</td>\n",
              "      <td>2.0</td>\n",
              "      <td>1.0</td>\n",
              "      <td>...</td>\n",
              "      <td>3</td>\n",
              "      <td>3</td>\n",
              "      <td>0</td>\n",
              "      <td>1.0</td>\n",
              "      <td>5.79</td>\n",
              "      <td>497.78</td>\n",
              "      <td>6.210158</td>\n",
              "      <td>1</td>\n",
              "      <td>1</td>\n",
              "      <td>1</td>\n",
              "    </tr>\n",
              "    <tr>\n",
              "      <th>11</th>\n",
              "      <td>2018.0</td>\n",
              "      <td>2927408</td>\n",
              "      <td>Salvador</td>\n",
              "      <td>BA</td>\n",
              "      <td>2.0</td>\n",
              "      <td>2.0</td>\n",
              "      <td>0.0</td>\n",
              "      <td>0.0</td>\n",
              "      <td>2.0</td>\n",
              "      <td>1.0</td>\n",
              "      <td>...</td>\n",
              "      <td>2</td>\n",
              "      <td>3</td>\n",
              "      <td>0</td>\n",
              "      <td>0.0</td>\n",
              "      <td>5.79</td>\n",
              "      <td>576.42</td>\n",
              "      <td>6.356837</td>\n",
              "      <td>1</td>\n",
              "      <td>1</td>\n",
              "      <td>1</td>\n",
              "    </tr>\n",
              "  </tbody>\n",
              "</table>\n",
              "<p>5 rows × 26 columns</p>\n",
              "</div>"
            ],
            "text/plain": [
              "    NU_ANO CO_MUNICIPIO_ESC    NO_MUNICIPIO_ESC SG_UF_ESC  \\\n",
              "0   2018.0          1500800          Ananindeua        PA   \n",
              "2   2018.0          3155603  Rio Pardo de Minas        MG   \n",
              "3   2018.0          1500800          Ananindeua        PA   \n",
              "5   2018.0          3161106       São Francisco        MG   \n",
              "11  2018.0          2927408            Salvador        BA   \n",
              "\n",
              "    TP_DEPENDENCIA_ADM_ESC  TP_FAIXA_ETARIA  TP_ESTADO_CIVIL  TP_COR_RACA  \\\n",
              "0                      4.0              2.0              0.0          4.0   \n",
              "2                      2.0              3.0              0.0          0.0   \n",
              "3                      4.0              2.0              0.0          3.0   \n",
              "5                      2.0              2.0              0.0          3.0   \n",
              "11                     2.0              2.0              0.0          0.0   \n",
              "\n",
              "    TP_ESCOLA  TP_LOCALIZACAO_ESC  ...  Q006  Q022  Q024  Q025  IND_CASA  \\\n",
              "0         4.0                 1.0  ...     5     3     2   1.0      7.79   \n",
              "2         2.0                 1.0  ...     1     3     0   0.0      6.79   \n",
              "3         4.0                 1.0  ...     8     3     0   1.0      7.79   \n",
              "5         2.0                 1.0  ...     3     3     0   1.0      5.79   \n",
              "11        2.0                 1.0  ...     2     3     0   0.0      5.79   \n",
              "\n",
              "    NT_MEDIA  LOG_NT_MEDIA  NAO_BRANCO  MULHER  SOLTEIRO  \n",
              "0     503.96      6.222497           0       1         1  \n",
              "2     497.84      6.210279           1       0         1  \n",
              "3     675.64      6.515660           1       1         1  \n",
              "5     497.78      6.210158           1       1         1  \n",
              "11    576.42      6.356837           1       1         1  \n",
              "\n",
              "[5 rows x 26 columns]"
            ]
          },
          "execution_count": 28,
          "metadata": {},
          "output_type": "execute_result"
        }
      ],
      "source": [
        "data.head()"
      ]
    },
    {
      "cell_type": "markdown",
      "metadata": {
        "id": "xwlivsbNpd0f"
      },
      "source": [
        " Selecionando alunos de escola pública, de áreas urbanas e rurais separadamente"
      ]
    },
    {
      "cell_type": "code",
      "execution_count": 29,
      "metadata": {
        "id": "MODIVfIcpjbH"
      },
      "outputs": [],
      "source": [
        "pub = data[data.TP_ESCOLA==2]"
      ]
    },
    {
      "cell_type": "markdown",
      "metadata": {
        "id": "_H4LrOxqh12t"
      },
      "source": [
        "## Regressão"
      ]
    },
    {
      "cell_type": "code",
      "execution_count": 31,
      "metadata": {
        "id": "oOJOFuVxwaKI"
      },
      "outputs": [],
      "source": [
        "def run_training(df, y_col, file_name=None):\n",
        "  independent_vars = ['NU_ANO', 'NU_NOTA_LC', 'NU_NOTA_MT', 'NT_MEDIA', 'LOG_NT_MEDIA', 'LOG_NT_MT']\n",
        "  formula = f\"{y_col} ~ {' + '.join(col for col in df.columns if col not in independent_vars)}\"\n",
        "  mod = create_model(df, formula)\n",
        "\n",
        "  # Fit no modelo\n",
        "  quantiles = np.arange(0.05, 0.96, 0.1)\n",
        "\n",
        "  models = {x: fit_model(mod, x) for x in quantiles}\n",
        "\n",
        "  # Persistindo resultados\n",
        "  dfs = []\n",
        "  metadatas = []  \n",
        "\n",
        "  for k, v in models.items():\n",
        "    # Note that tables is a list. The table at index 1 is the \"core\" table. Additionally, read_html puts dfs in a list, so we want index 0\n",
        "    results_as_html = v.tables[1].as_html()\n",
        "    metadata = v.tables[0].as_html()\n",
        "    metadata = pd.read_html(metadata, header=0, index_col=0)[0]\n",
        "    df = pd.read_html(results_as_html, header=0, index_col=0)[0]\n",
        "    df['quantile'] = k\n",
        "    metadata['quantile'] = k\n",
        "    dfs.append(df)\n",
        "    metadatas.append(metadata)\n",
        "  \n",
        "  all = pd.concat(dfs)\n",
        "  meta = pd.concat(metadatas, axis=1)\n",
        "\n",
        "  # Salvando localmente resultados para cada quantil\n",
        "  #all.to_csv(f'/content/drive/MyDrive/Gabinete/Relatório/Results/resultQReg{file_name}')\n",
        "  #meta.to_csv(f'/content/drive/MyDrive/Gabinete/Relatório/Results/metaQReg{file_name}')\n",
        "\n",
        "  return all, meta"
      ]
    },
    {
      "cell_type": "code",
      "execution_count": 36,
      "metadata": {},
      "outputs": [
        {
          "data": {
            "text/html": [
              "<div>\n",
              "<style scoped>\n",
              "    .dataframe tbody tr th:only-of-type {\n",
              "        vertical-align: middle;\n",
              "    }\n",
              "\n",
              "    .dataframe tbody tr th {\n",
              "        vertical-align: top;\n",
              "    }\n",
              "\n",
              "    .dataframe thead th {\n",
              "        text-align: right;\n",
              "    }\n",
              "</style>\n",
              "<table border=\"1\" class=\"dataframe\">\n",
              "  <thead>\n",
              "    <tr style=\"text-align: right;\">\n",
              "      <th></th>\n",
              "      <th>NU_ANO</th>\n",
              "      <th>CO_MUNICIPIO_ESC</th>\n",
              "      <th>NO_MUNICIPIO_ESC</th>\n",
              "      <th>SG_UF_ESC</th>\n",
              "      <th>TP_DEPENDENCIA_ADM_ESC</th>\n",
              "      <th>TP_FAIXA_ETARIA</th>\n",
              "      <th>TP_ESTADO_CIVIL</th>\n",
              "      <th>TP_COR_RACA</th>\n",
              "      <th>TP_ESCOLA</th>\n",
              "      <th>TP_LOCALIZACAO_ESC</th>\n",
              "      <th>...</th>\n",
              "      <th>Q006</th>\n",
              "      <th>Q022</th>\n",
              "      <th>Q024</th>\n",
              "      <th>Q025</th>\n",
              "      <th>IND_CASA</th>\n",
              "      <th>NT_MEDIA</th>\n",
              "      <th>LOG_NT_MEDIA</th>\n",
              "      <th>NAO_BRANCO</th>\n",
              "      <th>MULHER</th>\n",
              "      <th>SOLTEIRO</th>\n",
              "    </tr>\n",
              "  </thead>\n",
              "  <tbody>\n",
              "    <tr>\n",
              "      <th>2</th>\n",
              "      <td>2018.0</td>\n",
              "      <td>3155603</td>\n",
              "      <td>Rio Pardo de Minas</td>\n",
              "      <td>MG</td>\n",
              "      <td>2.0</td>\n",
              "      <td>3.0</td>\n",
              "      <td>0.0</td>\n",
              "      <td>0.0</td>\n",
              "      <td>2.0</td>\n",
              "      <td>1.0</td>\n",
              "      <td>...</td>\n",
              "      <td>1</td>\n",
              "      <td>3</td>\n",
              "      <td>0</td>\n",
              "      <td>0.0</td>\n",
              "      <td>6.79</td>\n",
              "      <td>497.84</td>\n",
              "      <td>6.210279</td>\n",
              "      <td>1</td>\n",
              "      <td>0</td>\n",
              "      <td>1</td>\n",
              "    </tr>\n",
              "    <tr>\n",
              "      <th>5</th>\n",
              "      <td>2018.0</td>\n",
              "      <td>3161106</td>\n",
              "      <td>São Francisco</td>\n",
              "      <td>MG</td>\n",
              "      <td>2.0</td>\n",
              "      <td>2.0</td>\n",
              "      <td>0.0</td>\n",
              "      <td>3.0</td>\n",
              "      <td>2.0</td>\n",
              "      <td>1.0</td>\n",
              "      <td>...</td>\n",
              "      <td>3</td>\n",
              "      <td>3</td>\n",
              "      <td>0</td>\n",
              "      <td>1.0</td>\n",
              "      <td>5.79</td>\n",
              "      <td>497.78</td>\n",
              "      <td>6.210158</td>\n",
              "      <td>1</td>\n",
              "      <td>1</td>\n",
              "      <td>1</td>\n",
              "    </tr>\n",
              "    <tr>\n",
              "      <th>11</th>\n",
              "      <td>2018.0</td>\n",
              "      <td>2927408</td>\n",
              "      <td>Salvador</td>\n",
              "      <td>BA</td>\n",
              "      <td>2.0</td>\n",
              "      <td>2.0</td>\n",
              "      <td>0.0</td>\n",
              "      <td>0.0</td>\n",
              "      <td>2.0</td>\n",
              "      <td>1.0</td>\n",
              "      <td>...</td>\n",
              "      <td>2</td>\n",
              "      <td>3</td>\n",
              "      <td>0</td>\n",
              "      <td>0.0</td>\n",
              "      <td>5.79</td>\n",
              "      <td>576.42</td>\n",
              "      <td>6.356837</td>\n",
              "      <td>1</td>\n",
              "      <td>1</td>\n",
              "      <td>1</td>\n",
              "    </tr>\n",
              "    <tr>\n",
              "      <th>13</th>\n",
              "      <td>2018.0</td>\n",
              "      <td>1500107</td>\n",
              "      <td>Abaetetuba</td>\n",
              "      <td>PA</td>\n",
              "      <td>2.0</td>\n",
              "      <td>2.0</td>\n",
              "      <td>0.0</td>\n",
              "      <td>3.0</td>\n",
              "      <td>2.0</td>\n",
              "      <td>1.0</td>\n",
              "      <td>...</td>\n",
              "      <td>5</td>\n",
              "      <td>4</td>\n",
              "      <td>0</td>\n",
              "      <td>0.0</td>\n",
              "      <td>5.79</td>\n",
              "      <td>532.22</td>\n",
              "      <td>6.277057</td>\n",
              "      <td>1</td>\n",
              "      <td>1</td>\n",
              "      <td>1</td>\n",
              "    </tr>\n",
              "    <tr>\n",
              "      <th>16</th>\n",
              "      <td>2018.0</td>\n",
              "      <td>2805604</td>\n",
              "      <td>Porto da Folha</td>\n",
              "      <td>SE</td>\n",
              "      <td>2.0</td>\n",
              "      <td>3.0</td>\n",
              "      <td>0.0</td>\n",
              "      <td>4.0</td>\n",
              "      <td>2.0</td>\n",
              "      <td>1.0</td>\n",
              "      <td>...</td>\n",
              "      <td>1</td>\n",
              "      <td>3</td>\n",
              "      <td>0</td>\n",
              "      <td>1.0</td>\n",
              "      <td>5.79</td>\n",
              "      <td>496.96</td>\n",
              "      <td>6.208510</td>\n",
              "      <td>0</td>\n",
              "      <td>1</td>\n",
              "      <td>1</td>\n",
              "    </tr>\n",
              "    <tr>\n",
              "      <th>...</th>\n",
              "      <td>...</td>\n",
              "      <td>...</td>\n",
              "      <td>...</td>\n",
              "      <td>...</td>\n",
              "      <td>...</td>\n",
              "      <td>...</td>\n",
              "      <td>...</td>\n",
              "      <td>...</td>\n",
              "      <td>...</td>\n",
              "      <td>...</td>\n",
              "      <td>...</td>\n",
              "      <td>...</td>\n",
              "      <td>...</td>\n",
              "      <td>...</td>\n",
              "      <td>...</td>\n",
              "      <td>...</td>\n",
              "      <td>...</td>\n",
              "      <td>...</td>\n",
              "      <td>...</td>\n",
              "      <td>...</td>\n",
              "      <td>...</td>\n",
              "    </tr>\n",
              "    <tr>\n",
              "      <th>158197</th>\n",
              "      <td>2021.0</td>\n",
              "      <td>1302603</td>\n",
              "      <td>Manaus</td>\n",
              "      <td>AM</td>\n",
              "      <td>2.0</td>\n",
              "      <td>3.0</td>\n",
              "      <td>1.0</td>\n",
              "      <td>3.0</td>\n",
              "      <td>2.0</td>\n",
              "      <td>1.0</td>\n",
              "      <td>...</td>\n",
              "      <td>3</td>\n",
              "      <td>4</td>\n",
              "      <td>0</td>\n",
              "      <td>1.0</td>\n",
              "      <td>6.79</td>\n",
              "      <td>392.00</td>\n",
              "      <td>5.971262</td>\n",
              "      <td>1</td>\n",
              "      <td>0</td>\n",
              "      <td>1</td>\n",
              "    </tr>\n",
              "    <tr>\n",
              "      <th>158204</th>\n",
              "      <td>2021.0</td>\n",
              "      <td>3520905</td>\n",
              "      <td>Ipaussu</td>\n",
              "      <td>SP</td>\n",
              "      <td>2.0</td>\n",
              "      <td>3.0</td>\n",
              "      <td>1.0</td>\n",
              "      <td>1.0</td>\n",
              "      <td>2.0</td>\n",
              "      <td>1.0</td>\n",
              "      <td>...</td>\n",
              "      <td>3</td>\n",
              "      <td>3</td>\n",
              "      <td>1</td>\n",
              "      <td>1.0</td>\n",
              "      <td>9.79</td>\n",
              "      <td>490.68</td>\n",
              "      <td>6.195792</td>\n",
              "      <td>0</td>\n",
              "      <td>1</td>\n",
              "      <td>1</td>\n",
              "    </tr>\n",
              "    <tr>\n",
              "      <th>158215</th>\n",
              "      <td>2021.0</td>\n",
              "      <td>3513009</td>\n",
              "      <td>Cotia</td>\n",
              "      <td>SP</td>\n",
              "      <td>2.0</td>\n",
              "      <td>3.0</td>\n",
              "      <td>1.0</td>\n",
              "      <td>1.0</td>\n",
              "      <td>2.0</td>\n",
              "      <td>1.0</td>\n",
              "      <td>...</td>\n",
              "      <td>5</td>\n",
              "      <td>3</td>\n",
              "      <td>0</td>\n",
              "      <td>1.0</td>\n",
              "      <td>7.79</td>\n",
              "      <td>541.80</td>\n",
              "      <td>6.294897</td>\n",
              "      <td>0</td>\n",
              "      <td>0</td>\n",
              "      <td>1</td>\n",
              "    </tr>\n",
              "    <tr>\n",
              "      <th>158218</th>\n",
              "      <td>2021.0</td>\n",
              "      <td>2914703</td>\n",
              "      <td>Itaberaba</td>\n",
              "      <td>BA</td>\n",
              "      <td>2.0</td>\n",
              "      <td>5.0</td>\n",
              "      <td>1.0</td>\n",
              "      <td>2.0</td>\n",
              "      <td>2.0</td>\n",
              "      <td>1.0</td>\n",
              "      <td>...</td>\n",
              "      <td>1</td>\n",
              "      <td>1</td>\n",
              "      <td>1</td>\n",
              "      <td>1.0</td>\n",
              "      <td>8.79</td>\n",
              "      <td>459.76</td>\n",
              "      <td>6.130705</td>\n",
              "      <td>1</td>\n",
              "      <td>0</td>\n",
              "      <td>1</td>\n",
              "    </tr>\n",
              "    <tr>\n",
              "      <th>158220</th>\n",
              "      <td>2021.0</td>\n",
              "      <td>3205002</td>\n",
              "      <td>Serra</td>\n",
              "      <td>ES</td>\n",
              "      <td>1.0</td>\n",
              "      <td>4.0</td>\n",
              "      <td>1.0</td>\n",
              "      <td>1.0</td>\n",
              "      <td>2.0</td>\n",
              "      <td>1.0</td>\n",
              "      <td>...</td>\n",
              "      <td>2</td>\n",
              "      <td>4</td>\n",
              "      <td>2</td>\n",
              "      <td>1.0</td>\n",
              "      <td>5.79</td>\n",
              "      <td>674.60</td>\n",
              "      <td>6.514120</td>\n",
              "      <td>0</td>\n",
              "      <td>0</td>\n",
              "      <td>1</td>\n",
              "    </tr>\n",
              "  </tbody>\n",
              "</table>\n",
              "<p>2262231 rows × 26 columns</p>\n",
              "</div>"
            ],
            "text/plain": [
              "        NU_ANO CO_MUNICIPIO_ESC    NO_MUNICIPIO_ESC SG_UF_ESC  \\\n",
              "2       2018.0          3155603  Rio Pardo de Minas        MG   \n",
              "5       2018.0          3161106       São Francisco        MG   \n",
              "11      2018.0          2927408            Salvador        BA   \n",
              "13      2018.0          1500107          Abaetetuba        PA   \n",
              "16      2018.0          2805604      Porto da Folha        SE   \n",
              "...        ...              ...                 ...       ...   \n",
              "158197  2021.0          1302603              Manaus        AM   \n",
              "158204  2021.0          3520905             Ipaussu        SP   \n",
              "158215  2021.0          3513009               Cotia        SP   \n",
              "158218  2021.0          2914703           Itaberaba        BA   \n",
              "158220  2021.0          3205002               Serra        ES   \n",
              "\n",
              "        TP_DEPENDENCIA_ADM_ESC  TP_FAIXA_ETARIA  TP_ESTADO_CIVIL  TP_COR_RACA  \\\n",
              "2                          2.0              3.0              0.0          0.0   \n",
              "5                          2.0              2.0              0.0          3.0   \n",
              "11                         2.0              2.0              0.0          0.0   \n",
              "13                         2.0              2.0              0.0          3.0   \n",
              "16                         2.0              3.0              0.0          4.0   \n",
              "...                        ...              ...              ...          ...   \n",
              "158197                     2.0              3.0              1.0          3.0   \n",
              "158204                     2.0              3.0              1.0          1.0   \n",
              "158215                     2.0              3.0              1.0          1.0   \n",
              "158218                     2.0              5.0              1.0          2.0   \n",
              "158220                     1.0              4.0              1.0          1.0   \n",
              "\n",
              "        TP_ESCOLA  TP_LOCALIZACAO_ESC  ...  Q006  Q022  Q024  Q025  IND_CASA  \\\n",
              "2             2.0                 1.0  ...     1     3     0   0.0      6.79   \n",
              "5             2.0                 1.0  ...     3     3     0   1.0      5.79   \n",
              "11            2.0                 1.0  ...     2     3     0   0.0      5.79   \n",
              "13            2.0                 1.0  ...     5     4     0   0.0      5.79   \n",
              "16            2.0                 1.0  ...     1     3     0   1.0      5.79   \n",
              "...           ...                 ...  ...   ...   ...   ...   ...       ...   \n",
              "158197        2.0                 1.0  ...     3     4     0   1.0      6.79   \n",
              "158204        2.0                 1.0  ...     3     3     1   1.0      9.79   \n",
              "158215        2.0                 1.0  ...     5     3     0   1.0      7.79   \n",
              "158218        2.0                 1.0  ...     1     1     1   1.0      8.79   \n",
              "158220        2.0                 1.0  ...     2     4     2   1.0      5.79   \n",
              "\n",
              "        NT_MEDIA  LOG_NT_MEDIA  NAO_BRANCO  MULHER  SOLTEIRO  \n",
              "2         497.84      6.210279           1       0         1  \n",
              "5         497.78      6.210158           1       1         1  \n",
              "11        576.42      6.356837           1       1         1  \n",
              "13        532.22      6.277057           1       1         1  \n",
              "16        496.96      6.208510           0       1         1  \n",
              "...          ...           ...         ...     ...       ...  \n",
              "158197    392.00      5.971262           1       0         1  \n",
              "158204    490.68      6.195792           0       1         1  \n",
              "158215    541.80      6.294897           0       0         1  \n",
              "158218    459.76      6.130705           1       0         1  \n",
              "158220    674.60      6.514120           0       0         1  \n",
              "\n",
              "[2262231 rows x 26 columns]"
            ]
          },
          "execution_count": 36,
          "metadata": {},
          "output_type": "execute_result"
        }
      ],
      "source": [
        "pub"
      ]
    },
    {
      "cell_type": "code",
      "execution_count": 35,
      "metadata": {},
      "outputs": [
        {
          "ename": "MemoryError",
          "evalue": "Unable to allocate 29.2 GiB for an array with shape (369108, 10610) and data type float64",
          "output_type": "error",
          "traceback": [
            "\u001b[0;31m---------------------------------------------------------------------------\u001b[0m",
            "\u001b[0;31mMemoryError\u001b[0m                               Traceback (most recent call last)",
            "\u001b[0;32m/tmp/ipykernel_41274/2082754173.py\u001b[0m in \u001b[0;36m<module>\u001b[0;34m\u001b[0m\n\u001b[0;32m----> 1\u001b[0;31m \u001b[0mall\u001b[0m\u001b[0;34m,\u001b[0m \u001b[0mmeta\u001b[0m \u001b[0;34m=\u001b[0m \u001b[0mrun_training\u001b[0m\u001b[0;34m(\u001b[0m\u001b[0mpub\u001b[0m\u001b[0;34m[\u001b[0m\u001b[0mpub\u001b[0m\u001b[0;34m[\u001b[0m\u001b[0;34m'NU_ANO'\u001b[0m\u001b[0;34m]\u001b[0m\u001b[0;34m==\u001b[0m\u001b[0;36m2020\u001b[0m\u001b[0;34m]\u001b[0m\u001b[0;34m,\u001b[0m \u001b[0;34m'NU_NOTA_MT'\u001b[0m\u001b[0;34m)\u001b[0m\u001b[0;34m\u001b[0m\u001b[0;34m\u001b[0m\u001b[0m\n\u001b[0m",
            "\u001b[0;32m/tmp/ipykernel_41274/654283485.py\u001b[0m in \u001b[0;36mrun_training\u001b[0;34m(df, y_col, file_name)\u001b[0m\n\u001b[1;32m      2\u001b[0m   \u001b[0mindependent_vars\u001b[0m \u001b[0;34m=\u001b[0m \u001b[0;34m[\u001b[0m\u001b[0;34m'NU_ANO'\u001b[0m\u001b[0;34m,\u001b[0m \u001b[0;34m'NU_NOTA_LC'\u001b[0m\u001b[0;34m,\u001b[0m \u001b[0;34m'NU_NOTA_MT'\u001b[0m\u001b[0;34m,\u001b[0m \u001b[0;34m'NT_MEDIA'\u001b[0m\u001b[0;34m,\u001b[0m \u001b[0;34m'LOG_NT_MEDIA'\u001b[0m\u001b[0;34m,\u001b[0m \u001b[0;34m'LOG_NT_MT'\u001b[0m\u001b[0;34m]\u001b[0m\u001b[0;34m\u001b[0m\u001b[0;34m\u001b[0m\u001b[0m\n\u001b[1;32m      3\u001b[0m   \u001b[0mformula\u001b[0m \u001b[0;34m=\u001b[0m \u001b[0;34mf\"{y_col} ~ {' + '.join(col for col in df.columns if col not in independent_vars)}\"\u001b[0m\u001b[0;34m\u001b[0m\u001b[0;34m\u001b[0m\u001b[0m\n\u001b[0;32m----> 4\u001b[0;31m   \u001b[0mmod\u001b[0m \u001b[0;34m=\u001b[0m \u001b[0mcreate_model\u001b[0m\u001b[0;34m(\u001b[0m\u001b[0mdf\u001b[0m\u001b[0;34m,\u001b[0m \u001b[0mformula\u001b[0m\u001b[0;34m)\u001b[0m\u001b[0;34m\u001b[0m\u001b[0;34m\u001b[0m\u001b[0m\n\u001b[0m\u001b[1;32m      5\u001b[0m \u001b[0;34m\u001b[0m\u001b[0m\n\u001b[1;32m      6\u001b[0m   \u001b[0;31m# Fit no modelo\u001b[0m\u001b[0;34m\u001b[0m\u001b[0;34m\u001b[0m\u001b[0;34m\u001b[0m\u001b[0m\n",
            "\u001b[0;32m/tmp/ipykernel_41274/444577903.py\u001b[0m in \u001b[0;36mcreate_model\u001b[0;34m(df, cols)\u001b[0m\n\u001b[1;32m      1\u001b[0m \u001b[0;32mdef\u001b[0m \u001b[0mcreate_model\u001b[0m\u001b[0;34m(\u001b[0m\u001b[0mdf\u001b[0m\u001b[0;34m,\u001b[0m \u001b[0mcols\u001b[0m\u001b[0;34m)\u001b[0m\u001b[0;34m:\u001b[0m\u001b[0;34m\u001b[0m\u001b[0;34m\u001b[0m\u001b[0m\n\u001b[0;32m----> 2\u001b[0;31m   \u001b[0mmod\u001b[0m \u001b[0;34m=\u001b[0m \u001b[0msmf\u001b[0m\u001b[0;34m.\u001b[0m\u001b[0mquantreg\u001b[0m\u001b[0;34m(\u001b[0m\u001b[0mcols\u001b[0m\u001b[0;34m,\u001b[0m \u001b[0mdata\u001b[0m\u001b[0;34m=\u001b[0m\u001b[0mdf\u001b[0m\u001b[0;34m,\u001b[0m \u001b[0mmissing\u001b[0m\u001b[0;34m=\u001b[0m\u001b[0;34m'drop'\u001b[0m\u001b[0;34m)\u001b[0m\u001b[0;34m\u001b[0m\u001b[0;34m\u001b[0m\u001b[0m\n\u001b[0m\u001b[1;32m      3\u001b[0m   \u001b[0;32mreturn\u001b[0m \u001b[0mmod\u001b[0m\u001b[0;34m\u001b[0m\u001b[0;34m\u001b[0m\u001b[0m\n",
            "\u001b[0;32m~/anaconda3/envs/conectividade/lib/python3.7/site-packages/statsmodels/base/model.py\u001b[0m in \u001b[0;36mfrom_formula\u001b[0;34m(cls, formula, data, subset, drop_cols, *args, **kwargs)\u001b[0m\n\u001b[1;32m    199\u001b[0m \u001b[0;34m\u001b[0m\u001b[0m\n\u001b[1;32m    200\u001b[0m         tmp = handle_formula_data(data, None, formula, depth=eval_env,\n\u001b[0;32m--> 201\u001b[0;31m                                   missing=missing)\n\u001b[0m\u001b[1;32m    202\u001b[0m         \u001b[0;34m(\u001b[0m\u001b[0;34m(\u001b[0m\u001b[0mendog\u001b[0m\u001b[0;34m,\u001b[0m \u001b[0mexog\u001b[0m\u001b[0;34m)\u001b[0m\u001b[0;34m,\u001b[0m \u001b[0mmissing_idx\u001b[0m\u001b[0;34m,\u001b[0m \u001b[0mdesign_info\u001b[0m\u001b[0;34m)\u001b[0m \u001b[0;34m=\u001b[0m \u001b[0mtmp\u001b[0m\u001b[0;34m\u001b[0m\u001b[0;34m\u001b[0m\u001b[0m\n\u001b[1;32m    203\u001b[0m         \u001b[0mmax_endog\u001b[0m \u001b[0;34m=\u001b[0m \u001b[0mcls\u001b[0m\u001b[0;34m.\u001b[0m\u001b[0m_formula_max_endog\u001b[0m\u001b[0;34m\u001b[0m\u001b[0;34m\u001b[0m\u001b[0m\n",
            "\u001b[0;32m~/anaconda3/envs/conectividade/lib/python3.7/site-packages/statsmodels/formula/formulatools.py\u001b[0m in \u001b[0;36mhandle_formula_data\u001b[0;34m(Y, X, formula, depth, missing)\u001b[0m\n\u001b[1;32m     62\u001b[0m         \u001b[0;32mif\u001b[0m \u001b[0mdata_util\u001b[0m\u001b[0;34m.\u001b[0m\u001b[0m_is_using_pandas\u001b[0m\u001b[0;34m(\u001b[0m\u001b[0mY\u001b[0m\u001b[0;34m,\u001b[0m \u001b[0;32mNone\u001b[0m\u001b[0;34m)\u001b[0m\u001b[0;34m:\u001b[0m\u001b[0;34m\u001b[0m\u001b[0;34m\u001b[0m\u001b[0m\n\u001b[1;32m     63\u001b[0m             result = dmatrices(formula, Y, depth, return_type='dataframe',\n\u001b[0;32m---> 64\u001b[0;31m                                NA_action=na_action)\n\u001b[0m\u001b[1;32m     65\u001b[0m         \u001b[0;32melse\u001b[0m\u001b[0;34m:\u001b[0m\u001b[0;34m\u001b[0m\u001b[0;34m\u001b[0m\u001b[0m\n\u001b[1;32m     66\u001b[0m             result = dmatrices(formula, Y, depth, return_type='dataframe',\n",
            "\u001b[0;32m~/anaconda3/envs/conectividade/lib/python3.7/site-packages/patsy/highlevel.py\u001b[0m in \u001b[0;36mdmatrices\u001b[0;34m(formula_like, data, eval_env, NA_action, return_type)\u001b[0m\n\u001b[1;32m    308\u001b[0m     \u001b[0meval_env\u001b[0m \u001b[0;34m=\u001b[0m \u001b[0mEvalEnvironment\u001b[0m\u001b[0;34m.\u001b[0m\u001b[0mcapture\u001b[0m\u001b[0;34m(\u001b[0m\u001b[0meval_env\u001b[0m\u001b[0;34m,\u001b[0m \u001b[0mreference\u001b[0m\u001b[0;34m=\u001b[0m\u001b[0;36m1\u001b[0m\u001b[0;34m)\u001b[0m\u001b[0;34m\u001b[0m\u001b[0;34m\u001b[0m\u001b[0m\n\u001b[1;32m    309\u001b[0m     (lhs, rhs) = _do_highlevel_design(formula_like, data, eval_env,\n\u001b[0;32m--> 310\u001b[0;31m                                       NA_action, return_type)\n\u001b[0m\u001b[1;32m    311\u001b[0m     \u001b[0;32mif\u001b[0m \u001b[0mlhs\u001b[0m\u001b[0;34m.\u001b[0m\u001b[0mshape\u001b[0m\u001b[0;34m[\u001b[0m\u001b[0;36m1\u001b[0m\u001b[0;34m]\u001b[0m \u001b[0;34m==\u001b[0m \u001b[0;36m0\u001b[0m\u001b[0;34m:\u001b[0m\u001b[0;34m\u001b[0m\u001b[0;34m\u001b[0m\u001b[0m\n\u001b[1;32m    312\u001b[0m         \u001b[0;32mraise\u001b[0m \u001b[0mPatsyError\u001b[0m\u001b[0;34m(\u001b[0m\u001b[0;34m\"model is missing required outcome variables\"\u001b[0m\u001b[0;34m)\u001b[0m\u001b[0;34m\u001b[0m\u001b[0;34m\u001b[0m\u001b[0m\n",
            "\u001b[0;32m~/anaconda3/envs/conectividade/lib/python3.7/site-packages/patsy/highlevel.py\u001b[0m in \u001b[0;36m_do_highlevel_design\u001b[0;34m(formula_like, data, eval_env, NA_action, return_type)\u001b[0m\n\u001b[1;32m    167\u001b[0m         return build_design_matrices(design_infos, data,\n\u001b[1;32m    168\u001b[0m                                      \u001b[0mNA_action\u001b[0m\u001b[0;34m=\u001b[0m\u001b[0mNA_action\u001b[0m\u001b[0;34m,\u001b[0m\u001b[0;34m\u001b[0m\u001b[0;34m\u001b[0m\u001b[0m\n\u001b[0;32m--> 169\u001b[0;31m                                      return_type=return_type)\n\u001b[0m\u001b[1;32m    170\u001b[0m     \u001b[0;32melse\u001b[0m\u001b[0;34m:\u001b[0m\u001b[0;34m\u001b[0m\u001b[0;34m\u001b[0m\u001b[0m\n\u001b[1;32m    171\u001b[0m         \u001b[0;31m# No builders, but maybe we can still get matrices\u001b[0m\u001b[0;34m\u001b[0m\u001b[0;34m\u001b[0m\u001b[0;34m\u001b[0m\u001b[0m\n",
            "\u001b[0;32m~/anaconda3/envs/conectividade/lib/python3.7/site-packages/patsy/build.py\u001b[0m in \u001b[0;36mbuild_design_matrices\u001b[0;34m(design_infos, data, NA_action, return_type, dtype)\u001b[0m\n\u001b[1;32m    931\u001b[0m         results.append(_build_design_matrix(design_info,\n\u001b[1;32m    932\u001b[0m                                             \u001b[0mfactor_info_to_values\u001b[0m\u001b[0;34m,\u001b[0m\u001b[0;34m\u001b[0m\u001b[0;34m\u001b[0m\u001b[0m\n\u001b[0;32m--> 933\u001b[0;31m                                             dtype))\n\u001b[0m\u001b[1;32m    934\u001b[0m     \u001b[0mmatrices\u001b[0m \u001b[0;34m=\u001b[0m \u001b[0;34m[\u001b[0m\u001b[0;34m]\u001b[0m\u001b[0;34m\u001b[0m\u001b[0;34m\u001b[0m\u001b[0m\n\u001b[1;32m    935\u001b[0m     \u001b[0;32mfor\u001b[0m \u001b[0mneed_reshape\u001b[0m\u001b[0;34m,\u001b[0m \u001b[0mmatrix\u001b[0m \u001b[0;32min\u001b[0m \u001b[0mresults\u001b[0m\u001b[0;34m:\u001b[0m\u001b[0;34m\u001b[0m\u001b[0;34m\u001b[0m\u001b[0m\n",
            "\u001b[0;32m~/anaconda3/envs/conectividade/lib/python3.7/site-packages/patsy/build.py\u001b[0m in \u001b[0;36m_build_design_matrix\u001b[0;34m(design_info, factor_info_to_values, dtype)\u001b[0m\n\u001b[1;32m    760\u001b[0m         \u001b[0mneed_reshape\u001b[0m \u001b[0;34m=\u001b[0m \u001b[0;32mTrue\u001b[0m\u001b[0;34m\u001b[0m\u001b[0;34m\u001b[0m\u001b[0m\n\u001b[1;32m    761\u001b[0m     \u001b[0mshape\u001b[0m \u001b[0;34m=\u001b[0m \u001b[0;34m(\u001b[0m\u001b[0mnum_rows\u001b[0m\u001b[0;34m,\u001b[0m \u001b[0mlen\u001b[0m\u001b[0;34m(\u001b[0m\u001b[0mdesign_info\u001b[0m\u001b[0;34m.\u001b[0m\u001b[0mcolumn_names\u001b[0m\u001b[0;34m)\u001b[0m\u001b[0;34m)\u001b[0m\u001b[0;34m\u001b[0m\u001b[0;34m\u001b[0m\u001b[0m\n\u001b[0;32m--> 762\u001b[0;31m     \u001b[0mm\u001b[0m \u001b[0;34m=\u001b[0m \u001b[0mDesignMatrix\u001b[0m\u001b[0;34m(\u001b[0m\u001b[0mnp\u001b[0m\u001b[0;34m.\u001b[0m\u001b[0mempty\u001b[0m\u001b[0;34m(\u001b[0m\u001b[0mshape\u001b[0m\u001b[0;34m,\u001b[0m \u001b[0mdtype\u001b[0m\u001b[0;34m=\u001b[0m\u001b[0mdtype\u001b[0m\u001b[0;34m)\u001b[0m\u001b[0;34m,\u001b[0m \u001b[0mdesign_info\u001b[0m\u001b[0;34m)\u001b[0m\u001b[0;34m\u001b[0m\u001b[0;34m\u001b[0m\u001b[0m\n\u001b[0m\u001b[1;32m    763\u001b[0m     \u001b[0mstart_column\u001b[0m \u001b[0;34m=\u001b[0m \u001b[0;36m0\u001b[0m\u001b[0;34m\u001b[0m\u001b[0;34m\u001b[0m\u001b[0m\n\u001b[1;32m    764\u001b[0m     \u001b[0;32mfor\u001b[0m \u001b[0mterm\u001b[0m\u001b[0;34m,\u001b[0m \u001b[0msubterms\u001b[0m \u001b[0;32min\u001b[0m \u001b[0msix\u001b[0m\u001b[0;34m.\u001b[0m\u001b[0miteritems\u001b[0m\u001b[0;34m(\u001b[0m\u001b[0mdesign_info\u001b[0m\u001b[0;34m.\u001b[0m\u001b[0mterm_codings\u001b[0m\u001b[0;34m)\u001b[0m\u001b[0;34m:\u001b[0m\u001b[0;34m\u001b[0m\u001b[0;34m\u001b[0m\u001b[0m\n",
            "\u001b[0;31mMemoryError\u001b[0m: Unable to allocate 29.2 GiB for an array with shape (369108, 10610) and data type float64"
          ]
        }
      ],
      "source": [
        "all, meta = run_training(pub[pub['NU_ANO']==2020], 'NU_NOTA_MT')"
      ]
    },
    {
      "cell_type": "code",
      "execution_count": null,
      "metadata": {},
      "outputs": [],
      "source": [
        "for ano in range(2018,2021+1):\n",
        "    "
      ]
    },
    {
      "cell_type": "code",
      "execution_count": null,
      "metadata": {
        "colab": {
          "base_uri": "https://localhost:8080/",
          "height": 344
        },
        "id": "jQMFwjZJysn7",
        "outputId": "61c362bd-b17c-45ac-96a6-2eed78faa6fc"
      },
      "outputs": [
        {
          "ename": "ValueError",
          "evalue": "ignored",
          "output_type": "error",
          "traceback": [
            "\u001b[0;31m---------------------------------------------------------------------------\u001b[0m",
            "\u001b[0;31mValueError\u001b[0m                                Traceback (most recent call last)",
            "\u001b[0;32m<ipython-input-30-63de74696c4b>\u001b[0m in \u001b[0;36m<module>\u001b[0;34m()\u001b[0m\n\u001b[0;32m----> 1\u001b[0;31m \u001b[0mr19\u001b[0m\u001b[0;34m,\u001b[0m \u001b[0mmeta19\u001b[0m \u001b[0;34m=\u001b[0m \u001b[0mrun_training\u001b[0m\u001b[0;34m(\u001b[0m\u001b[0mdf\u001b[0m\u001b[0;34m=\u001b[0m\u001b[0mpub19\u001b[0m\u001b[0;34m,\u001b[0m \u001b[0my_col\u001b[0m\u001b[0;34m=\u001b[0m\u001b[0;34m'LOG_NT_MT'\u001b[0m\u001b[0;34m,\u001b[0m \u001b[0mfile_name\u001b[0m\u001b[0;34m=\u001b[0m\u001b[0;34m'19-Publicas-Urbanas.csv'\u001b[0m\u001b[0;34m)\u001b[0m\u001b[0;34m\u001b[0m\u001b[0;34m\u001b[0m\u001b[0m\n\u001b[0m",
            "\u001b[0;32m<ipython-input-29-fa2d30450eac>\u001b[0m in \u001b[0;36mrun_training\u001b[0;34m(df, y_col, file_name)\u001b[0m\n\u001b[1;32m      7\u001b[0m   \u001b[0mquantiles\u001b[0m \u001b[0;34m=\u001b[0m \u001b[0mnp\u001b[0m\u001b[0;34m.\u001b[0m\u001b[0marange\u001b[0m\u001b[0;34m(\u001b[0m\u001b[0;36m0.05\u001b[0m\u001b[0;34m,\u001b[0m \u001b[0;36m0.96\u001b[0m\u001b[0;34m,\u001b[0m \u001b[0;36m0.1\u001b[0m\u001b[0;34m)\u001b[0m\u001b[0;34m\u001b[0m\u001b[0;34m\u001b[0m\u001b[0m\n\u001b[1;32m      8\u001b[0m \u001b[0;34m\u001b[0m\u001b[0m\n\u001b[0;32m----> 9\u001b[0;31m   \u001b[0mmodels\u001b[0m \u001b[0;34m=\u001b[0m \u001b[0;34m{\u001b[0m\u001b[0mx\u001b[0m\u001b[0;34m:\u001b[0m \u001b[0mfit_model\u001b[0m\u001b[0;34m(\u001b[0m\u001b[0mmod\u001b[0m\u001b[0;34m,\u001b[0m \u001b[0mx\u001b[0m\u001b[0;34m)\u001b[0m \u001b[0;32mfor\u001b[0m \u001b[0mx\u001b[0m \u001b[0;32min\u001b[0m \u001b[0mquantiles\u001b[0m\u001b[0;34m}\u001b[0m\u001b[0;34m\u001b[0m\u001b[0;34m\u001b[0m\u001b[0m\n\u001b[0m\u001b[1;32m     10\u001b[0m \u001b[0;34m\u001b[0m\u001b[0m\n\u001b[1;32m     11\u001b[0m   \u001b[0;31m# Persistindo resultados\u001b[0m\u001b[0;34m\u001b[0m\u001b[0;34m\u001b[0m\u001b[0;34m\u001b[0m\u001b[0m\n",
            "\u001b[0;32m<ipython-input-29-fa2d30450eac>\u001b[0m in \u001b[0;36m<dictcomp>\u001b[0;34m(.0)\u001b[0m\n\u001b[1;32m      7\u001b[0m   \u001b[0mquantiles\u001b[0m \u001b[0;34m=\u001b[0m \u001b[0mnp\u001b[0m\u001b[0;34m.\u001b[0m\u001b[0marange\u001b[0m\u001b[0;34m(\u001b[0m\u001b[0;36m0.05\u001b[0m\u001b[0;34m,\u001b[0m \u001b[0;36m0.96\u001b[0m\u001b[0;34m,\u001b[0m \u001b[0;36m0.1\u001b[0m\u001b[0;34m)\u001b[0m\u001b[0;34m\u001b[0m\u001b[0;34m\u001b[0m\u001b[0m\n\u001b[1;32m      8\u001b[0m \u001b[0;34m\u001b[0m\u001b[0m\n\u001b[0;32m----> 9\u001b[0;31m   \u001b[0mmodels\u001b[0m \u001b[0;34m=\u001b[0m \u001b[0;34m{\u001b[0m\u001b[0mx\u001b[0m\u001b[0;34m:\u001b[0m \u001b[0mfit_model\u001b[0m\u001b[0;34m(\u001b[0m\u001b[0mmod\u001b[0m\u001b[0;34m,\u001b[0m \u001b[0mx\u001b[0m\u001b[0;34m)\u001b[0m \u001b[0;32mfor\u001b[0m \u001b[0mx\u001b[0m \u001b[0;32min\u001b[0m \u001b[0mquantiles\u001b[0m\u001b[0;34m}\u001b[0m\u001b[0;34m\u001b[0m\u001b[0;34m\u001b[0m\u001b[0m\n\u001b[0m\u001b[1;32m     10\u001b[0m \u001b[0;34m\u001b[0m\u001b[0m\n\u001b[1;32m     11\u001b[0m   \u001b[0;31m# Persistindo resultados\u001b[0m\u001b[0;34m\u001b[0m\u001b[0;34m\u001b[0m\u001b[0;34m\u001b[0m\u001b[0m\n",
            "\u001b[0;32m<ipython-input-13-e5c24aa0727b>\u001b[0m in \u001b[0;36mfit_model\u001b[0;34m(model, q)\u001b[0m\n\u001b[1;32m      6\u001b[0m         \u001b[0mbandwidth\u001b[0m\u001b[0;34m=\u001b[0m\u001b[0;34m'hsheather'\u001b[0m\u001b[0;34m,\u001b[0m\u001b[0;34m\u001b[0m\u001b[0;34m\u001b[0m\u001b[0m\n\u001b[1;32m      7\u001b[0m         \u001b[0mmax_iter\u001b[0m\u001b[0;34m=\u001b[0m\u001b[0;36m1000\u001b[0m\u001b[0;34m,\u001b[0m\u001b[0;34m\u001b[0m\u001b[0;34m\u001b[0m\u001b[0m\n\u001b[0;32m----> 8\u001b[0;31m         \u001b[0mp_tol\u001b[0m\u001b[0;34m=\u001b[0m\u001b[0;36m1e-06\u001b[0m\u001b[0;34m\u001b[0m\u001b[0;34m\u001b[0m\u001b[0m\n\u001b[0m\u001b[1;32m      9\u001b[0m     )\n\u001b[1;32m     10\u001b[0m \u001b[0;34m\u001b[0m\u001b[0m\n",
            "\u001b[0;32m/usr/local/lib/python3.7/dist-packages/statsmodels/regression/quantile_regression.py\u001b[0m in \u001b[0;36mfit\u001b[0;34m(self, q, vcov, kernel, bandwidth, max_iter, p_tol, **kwargs)\u001b[0m\n\u001b[1;32m    176\u001b[0m             \u001b[0mresid\u001b[0m \u001b[0;34m=\u001b[0m \u001b[0mnp\u001b[0m\u001b[0;34m.\u001b[0m\u001b[0mabs\u001b[0m\u001b[0;34m(\u001b[0m\u001b[0mresid\u001b[0m\u001b[0;34m)\u001b[0m\u001b[0;34m\u001b[0m\u001b[0;34m\u001b[0m\u001b[0m\n\u001b[1;32m    177\u001b[0m             \u001b[0mxstar\u001b[0m \u001b[0;34m=\u001b[0m \u001b[0mexog\u001b[0m \u001b[0;34m/\u001b[0m \u001b[0mresid\u001b[0m\u001b[0;34m[\u001b[0m\u001b[0;34m:\u001b[0m\u001b[0;34m,\u001b[0m \u001b[0mnp\u001b[0m\u001b[0;34m.\u001b[0m\u001b[0mnewaxis\u001b[0m\u001b[0;34m]\u001b[0m\u001b[0;34m\u001b[0m\u001b[0;34m\u001b[0m\u001b[0m\n\u001b[0;32m--> 178\u001b[0;31m             \u001b[0mdiff\u001b[0m \u001b[0;34m=\u001b[0m \u001b[0mnp\u001b[0m\u001b[0;34m.\u001b[0m\u001b[0mmax\u001b[0m\u001b[0;34m(\u001b[0m\u001b[0mnp\u001b[0m\u001b[0;34m.\u001b[0m\u001b[0mabs\u001b[0m\u001b[0;34m(\u001b[0m\u001b[0mbeta\u001b[0m \u001b[0;34m-\u001b[0m \u001b[0mbeta0\u001b[0m\u001b[0;34m)\u001b[0m\u001b[0;34m)\u001b[0m\u001b[0;34m\u001b[0m\u001b[0;34m\u001b[0m\u001b[0m\n\u001b[0m\u001b[1;32m    179\u001b[0m             \u001b[0mhistory\u001b[0m\u001b[0;34m[\u001b[0m\u001b[0;34m'params'\u001b[0m\u001b[0;34m]\u001b[0m\u001b[0;34m.\u001b[0m\u001b[0mappend\u001b[0m\u001b[0;34m(\u001b[0m\u001b[0mbeta\u001b[0m\u001b[0;34m)\u001b[0m\u001b[0;34m\u001b[0m\u001b[0;34m\u001b[0m\u001b[0m\n\u001b[1;32m    180\u001b[0m             \u001b[0mhistory\u001b[0m\u001b[0;34m[\u001b[0m\u001b[0;34m'mse'\u001b[0m\u001b[0;34m]\u001b[0m\u001b[0;34m.\u001b[0m\u001b[0mappend\u001b[0m\u001b[0;34m(\u001b[0m\u001b[0mnp\u001b[0m\u001b[0;34m.\u001b[0m\u001b[0mmean\u001b[0m\u001b[0;34m(\u001b[0m\u001b[0mresid\u001b[0m\u001b[0;34m*\u001b[0m\u001b[0mresid\u001b[0m\u001b[0;34m)\u001b[0m\u001b[0;34m)\u001b[0m\u001b[0;34m\u001b[0m\u001b[0;34m\u001b[0m\u001b[0m\n",
            "\u001b[0;31mValueError\u001b[0m: operands could not be broadcast together with shapes (98,) (85,) "
          ]
        }
      ],
      "source": [
        "r19, meta19 = run_training(df=pub19, y_col='LOG_NT_MT', file_name='19-Publicas-Urbanas.csv')"
      ]
    },
    {
      "cell_type": "code",
      "execution_count": null,
      "metadata": {
        "id": "iZYjE-U6zU44"
      },
      "outputs": [],
      "source": [
        "independent_vars = ['NU_ANO', 'NU_NOTA_LC', 'NU_NOTA_MT', 'NT_MEDIA', 'LOG_NT_MEDIA', 'LOG_NT_MT']"
      ]
    },
    {
      "cell_type": "code",
      "execution_count": null,
      "metadata": {
        "id": "V9xnSRHh4D-J"
      },
      "outputs": [],
      "source": [
        "ntMatXall = f\"LOG_NT_MT ~ {' + '.join(col for col in urb_pub19.columns if col not in independent_vars)}\""
      ]
    },
    {
      "cell_type": "code",
      "execution_count": null,
      "metadata": {
        "id": "VaLh2zv6iwgX"
      },
      "outputs": [],
      "source": [
        "mod = create_model(urb_pub19, ntMatXall)"
      ]
    },
    {
      "cell_type": "code",
      "execution_count": null,
      "metadata": {
        "colab": {
          "base_uri": "https://localhost:8080/",
          "height": 375
        },
        "id": "mOz2PFw82c-B",
        "outputId": "3f092af2-1c74-4c53-ab3c-3009033b8c35"
      },
      "outputs": [
        {
          "ename": "ValueError",
          "evalue": "ignored",
          "output_type": "error",
          "traceback": [
            "\u001b[0;31m---------------------------------------------------------------------------\u001b[0m",
            "\u001b[0;31mValueError\u001b[0m                                Traceback (most recent call last)",
            "\u001b[0;32m<ipython-input-40-2c9a8393ff00>\u001b[0m in \u001b[0;36m<module>\u001b[0;34m()\u001b[0m\n\u001b[1;32m      5\u001b[0m     \u001b[0mbandwidth\u001b[0m\u001b[0;34m=\u001b[0m\u001b[0;34m'hsheather'\u001b[0m\u001b[0;34m,\u001b[0m\u001b[0;34m\u001b[0m\u001b[0;34m\u001b[0m\u001b[0m\n\u001b[1;32m      6\u001b[0m     \u001b[0mmax_iter\u001b[0m\u001b[0;34m=\u001b[0m\u001b[0;36m1000\u001b[0m\u001b[0;34m,\u001b[0m\u001b[0;34m\u001b[0m\u001b[0;34m\u001b[0m\u001b[0m\n\u001b[0;32m----> 7\u001b[0;31m     \u001b[0mp_tol\u001b[0m\u001b[0;34m=\u001b[0m\u001b[0;36m1e-06\u001b[0m\u001b[0;34m\u001b[0m\u001b[0;34m\u001b[0m\u001b[0m\n\u001b[0m\u001b[1;32m      8\u001b[0m )\n",
            "\u001b[0;32m/usr/local/lib/python3.7/dist-packages/statsmodels/regression/quantile_regression.py\u001b[0m in \u001b[0;36mfit\u001b[0;34m(self, q, vcov, kernel, bandwidth, max_iter, p_tol, **kwargs)\u001b[0m\n\u001b[1;32m    176\u001b[0m             \u001b[0mresid\u001b[0m \u001b[0;34m=\u001b[0m \u001b[0mnp\u001b[0m\u001b[0;34m.\u001b[0m\u001b[0mabs\u001b[0m\u001b[0;34m(\u001b[0m\u001b[0mresid\u001b[0m\u001b[0;34m)\u001b[0m\u001b[0;34m\u001b[0m\u001b[0;34m\u001b[0m\u001b[0m\n\u001b[1;32m    177\u001b[0m             \u001b[0mxstar\u001b[0m \u001b[0;34m=\u001b[0m \u001b[0mexog\u001b[0m \u001b[0;34m/\u001b[0m \u001b[0mresid\u001b[0m\u001b[0;34m[\u001b[0m\u001b[0;34m:\u001b[0m\u001b[0;34m,\u001b[0m \u001b[0mnp\u001b[0m\u001b[0;34m.\u001b[0m\u001b[0mnewaxis\u001b[0m\u001b[0;34m]\u001b[0m\u001b[0;34m\u001b[0m\u001b[0;34m\u001b[0m\u001b[0m\n\u001b[0;32m--> 178\u001b[0;31m             \u001b[0mdiff\u001b[0m \u001b[0;34m=\u001b[0m \u001b[0mnp\u001b[0m\u001b[0;34m.\u001b[0m\u001b[0mmax\u001b[0m\u001b[0;34m(\u001b[0m\u001b[0mnp\u001b[0m\u001b[0;34m.\u001b[0m\u001b[0mabs\u001b[0m\u001b[0;34m(\u001b[0m\u001b[0mbeta\u001b[0m \u001b[0;34m-\u001b[0m \u001b[0mbeta0\u001b[0m\u001b[0;34m)\u001b[0m\u001b[0;34m)\u001b[0m\u001b[0;34m\u001b[0m\u001b[0;34m\u001b[0m\u001b[0m\n\u001b[0m\u001b[1;32m    179\u001b[0m             \u001b[0mhistory\u001b[0m\u001b[0;34m[\u001b[0m\u001b[0;34m'params'\u001b[0m\u001b[0;34m]\u001b[0m\u001b[0;34m.\u001b[0m\u001b[0mappend\u001b[0m\u001b[0;34m(\u001b[0m\u001b[0mbeta\u001b[0m\u001b[0;34m)\u001b[0m\u001b[0;34m\u001b[0m\u001b[0;34m\u001b[0m\u001b[0m\n\u001b[1;32m    180\u001b[0m             \u001b[0mhistory\u001b[0m\u001b[0;34m[\u001b[0m\u001b[0;34m'mse'\u001b[0m\u001b[0;34m]\u001b[0m\u001b[0;34m.\u001b[0m\u001b[0mappend\u001b[0m\u001b[0;34m(\u001b[0m\u001b[0mnp\u001b[0m\u001b[0;34m.\u001b[0m\u001b[0mmean\u001b[0m\u001b[0;34m(\u001b[0m\u001b[0mresid\u001b[0m\u001b[0;34m*\u001b[0m\u001b[0mresid\u001b[0m\u001b[0;34m)\u001b[0m\u001b[0;34m)\u001b[0m\u001b[0;34m\u001b[0m\u001b[0;34m\u001b[0m\u001b[0m\n",
            "\u001b[0;31mValueError\u001b[0m: operands could not be broadcast together with shapes (96,) (83,) "
          ]
        }
      ],
      "source": [
        "res = mod.fit(\n",
        "    q=0.5, \n",
        "    vcov='robust',\n",
        "    kernel='gau',\n",
        "    bandwidth='hsheather', \n",
        "    max_iter=1000,\n",
        "    p_tol=1e-06\n",
        ")"
      ]
    },
    {
      "cell_type": "code",
      "execution_count": null,
      "metadata": {
        "colab": {
          "base_uri": "https://localhost:8080/",
          "height": 380
        },
        "id": "cjxNTwbOh9qq",
        "outputId": "1b71bb72-13d7-4371-efdb-3d7c69d816b5"
      },
      "outputs": [
        {
          "ename": "ValueError",
          "evalue": "ignored",
          "output_type": "error",
          "traceback": [
            "\u001b[0;31m---------------------------------------------------------------------------\u001b[0m",
            "\u001b[0;31mValueError\u001b[0m                                Traceback (most recent call last)",
            "\u001b[0;32m<ipython-input-39-4ee912e6d421>\u001b[0m in \u001b[0;36m<module>\u001b[0;34m()\u001b[0m\n\u001b[1;32m      1\u001b[0m \u001b[0mquantiles\u001b[0m \u001b[0;34m=\u001b[0m \u001b[0mnp\u001b[0m\u001b[0;34m.\u001b[0m\u001b[0marange\u001b[0m\u001b[0;34m(\u001b[0m\u001b[0;36m0.05\u001b[0m\u001b[0;34m,\u001b[0m \u001b[0;36m0.96\u001b[0m\u001b[0;34m,\u001b[0m \u001b[0;36m0.1\u001b[0m\u001b[0;34m)\u001b[0m\u001b[0;34m\u001b[0m\u001b[0;34m\u001b[0m\u001b[0m\n\u001b[1;32m      2\u001b[0m \u001b[0;34m\u001b[0m\u001b[0m\n\u001b[0;32m----> 3\u001b[0;31m \u001b[0mmodels\u001b[0m \u001b[0;34m=\u001b[0m \u001b[0;34m{\u001b[0m\u001b[0mx\u001b[0m\u001b[0;34m:\u001b[0m \u001b[0mfit_model\u001b[0m\u001b[0;34m(\u001b[0m\u001b[0mmod\u001b[0m\u001b[0;34m,\u001b[0m \u001b[0mx\u001b[0m\u001b[0;34m)\u001b[0m \u001b[0;32mfor\u001b[0m \u001b[0mx\u001b[0m \u001b[0;32min\u001b[0m \u001b[0mquantiles\u001b[0m\u001b[0;34m}\u001b[0m\u001b[0;34m\u001b[0m\u001b[0;34m\u001b[0m\u001b[0m\n\u001b[0m",
            "\u001b[0;32m<ipython-input-39-4ee912e6d421>\u001b[0m in \u001b[0;36m<dictcomp>\u001b[0;34m(.0)\u001b[0m\n\u001b[1;32m      1\u001b[0m \u001b[0mquantiles\u001b[0m \u001b[0;34m=\u001b[0m \u001b[0mnp\u001b[0m\u001b[0;34m.\u001b[0m\u001b[0marange\u001b[0m\u001b[0;34m(\u001b[0m\u001b[0;36m0.05\u001b[0m\u001b[0;34m,\u001b[0m \u001b[0;36m0.96\u001b[0m\u001b[0;34m,\u001b[0m \u001b[0;36m0.1\u001b[0m\u001b[0;34m)\u001b[0m\u001b[0;34m\u001b[0m\u001b[0;34m\u001b[0m\u001b[0m\n\u001b[1;32m      2\u001b[0m \u001b[0;34m\u001b[0m\u001b[0m\n\u001b[0;32m----> 3\u001b[0;31m \u001b[0mmodels\u001b[0m \u001b[0;34m=\u001b[0m \u001b[0;34m{\u001b[0m\u001b[0mx\u001b[0m\u001b[0;34m:\u001b[0m \u001b[0mfit_model\u001b[0m\u001b[0;34m(\u001b[0m\u001b[0mmod\u001b[0m\u001b[0;34m,\u001b[0m \u001b[0mx\u001b[0m\u001b[0;34m)\u001b[0m \u001b[0;32mfor\u001b[0m \u001b[0mx\u001b[0m \u001b[0;32min\u001b[0m \u001b[0mquantiles\u001b[0m\u001b[0;34m}\u001b[0m\u001b[0;34m\u001b[0m\u001b[0;34m\u001b[0m\u001b[0m\n\u001b[0m",
            "\u001b[0;32m<ipython-input-13-e5c24aa0727b>\u001b[0m in \u001b[0;36mfit_model\u001b[0;34m(model, q)\u001b[0m\n\u001b[1;32m      6\u001b[0m         \u001b[0mbandwidth\u001b[0m\u001b[0;34m=\u001b[0m\u001b[0;34m'hsheather'\u001b[0m\u001b[0;34m,\u001b[0m\u001b[0;34m\u001b[0m\u001b[0;34m\u001b[0m\u001b[0m\n\u001b[1;32m      7\u001b[0m         \u001b[0mmax_iter\u001b[0m\u001b[0;34m=\u001b[0m\u001b[0;36m1000\u001b[0m\u001b[0;34m,\u001b[0m\u001b[0;34m\u001b[0m\u001b[0;34m\u001b[0m\u001b[0m\n\u001b[0;32m----> 8\u001b[0;31m         \u001b[0mp_tol\u001b[0m\u001b[0;34m=\u001b[0m\u001b[0;36m1e-06\u001b[0m\u001b[0;34m\u001b[0m\u001b[0;34m\u001b[0m\u001b[0m\n\u001b[0m\u001b[1;32m      9\u001b[0m     )\n\u001b[1;32m     10\u001b[0m \u001b[0;34m\u001b[0m\u001b[0m\n",
            "\u001b[0;32m/usr/local/lib/python3.7/dist-packages/statsmodels/regression/quantile_regression.py\u001b[0m in \u001b[0;36mfit\u001b[0;34m(self, q, vcov, kernel, bandwidth, max_iter, p_tol, **kwargs)\u001b[0m\n\u001b[1;32m    176\u001b[0m             \u001b[0mresid\u001b[0m \u001b[0;34m=\u001b[0m \u001b[0mnp\u001b[0m\u001b[0;34m.\u001b[0m\u001b[0mabs\u001b[0m\u001b[0;34m(\u001b[0m\u001b[0mresid\u001b[0m\u001b[0;34m)\u001b[0m\u001b[0;34m\u001b[0m\u001b[0;34m\u001b[0m\u001b[0m\n\u001b[1;32m    177\u001b[0m             \u001b[0mxstar\u001b[0m \u001b[0;34m=\u001b[0m \u001b[0mexog\u001b[0m \u001b[0;34m/\u001b[0m \u001b[0mresid\u001b[0m\u001b[0;34m[\u001b[0m\u001b[0;34m:\u001b[0m\u001b[0;34m,\u001b[0m \u001b[0mnp\u001b[0m\u001b[0;34m.\u001b[0m\u001b[0mnewaxis\u001b[0m\u001b[0;34m]\u001b[0m\u001b[0;34m\u001b[0m\u001b[0;34m\u001b[0m\u001b[0m\n\u001b[0;32m--> 178\u001b[0;31m             \u001b[0mdiff\u001b[0m \u001b[0;34m=\u001b[0m \u001b[0mnp\u001b[0m\u001b[0;34m.\u001b[0m\u001b[0mmax\u001b[0m\u001b[0;34m(\u001b[0m\u001b[0mnp\u001b[0m\u001b[0;34m.\u001b[0m\u001b[0mabs\u001b[0m\u001b[0;34m(\u001b[0m\u001b[0mbeta\u001b[0m \u001b[0;34m-\u001b[0m \u001b[0mbeta0\u001b[0m\u001b[0;34m)\u001b[0m\u001b[0;34m)\u001b[0m\u001b[0;34m\u001b[0m\u001b[0;34m\u001b[0m\u001b[0m\n\u001b[0m\u001b[1;32m    179\u001b[0m             \u001b[0mhistory\u001b[0m\u001b[0;34m[\u001b[0m\u001b[0;34m'params'\u001b[0m\u001b[0;34m]\u001b[0m\u001b[0;34m.\u001b[0m\u001b[0mappend\u001b[0m\u001b[0;34m(\u001b[0m\u001b[0mbeta\u001b[0m\u001b[0;34m)\u001b[0m\u001b[0;34m\u001b[0m\u001b[0;34m\u001b[0m\u001b[0m\n\u001b[1;32m    180\u001b[0m             \u001b[0mhistory\u001b[0m\u001b[0;34m[\u001b[0m\u001b[0;34m'mse'\u001b[0m\u001b[0;34m]\u001b[0m\u001b[0;34m.\u001b[0m\u001b[0mappend\u001b[0m\u001b[0;34m(\u001b[0m\u001b[0mnp\u001b[0m\u001b[0;34m.\u001b[0m\u001b[0mmean\u001b[0m\u001b[0;34m(\u001b[0m\u001b[0mresid\u001b[0m\u001b[0;34m*\u001b[0m\u001b[0mresid\u001b[0m\u001b[0;34m)\u001b[0m\u001b[0;34m)\u001b[0m\u001b[0;34m\u001b[0m\u001b[0;34m\u001b[0m\u001b[0m\n",
            "\u001b[0;31mValueError\u001b[0m: operands could not be broadcast together with shapes (96,) (83,) "
          ]
        }
      ],
      "source": [
        "quantiles = np.arange(0.05, 0.96, 0.1)\n",
        "\n",
        "models = {x: fit_model(mod, x) for x in quantiles}"
      ]
    },
    {
      "cell_type": "code",
      "execution_count": null,
      "metadata": {
        "id": "rDZJC0_nYYDR"
      },
      "outputs": [],
      "source": [
        "dfs = []\n",
        "metadatas = []"
      ]
    },
    {
      "cell_type": "code",
      "execution_count": null,
      "metadata": {
        "id": "7vZJc1hzlBsF"
      },
      "outputs": [],
      "source": [
        "for k, v in models.items():\n",
        "  # Note that tables is a list. The table at index 1 is the \"core\" table. Additionally, read_html puts dfs in a list, so we want index 0\n",
        "  results_as_html = v.tables[1].as_html()\n",
        "  metadata = v.tables[0].as_html()\n",
        "  metadata = pd.read_html(metadata, header=0, index_col=0)[0]\n",
        "  df = pd.read_html(results_as_html, header=0, index_col=0)[0]\n",
        "  df['quantile'] = k\n",
        "  metadata['quantile'] = k\n",
        "  dfs.append(df)\n",
        "  metadatas.append(metadata)"
      ]
    },
    {
      "cell_type": "code",
      "execution_count": null,
      "metadata": {
        "id": "GotbtA5xlaa3"
      },
      "outputs": [],
      "source": [
        "all = pd.concat(dfs)\n",
        "meta = pd.concat(metadatas, axis=1)"
      ]
    },
    {
      "cell_type": "code",
      "execution_count": null,
      "metadata": {
        "id": "s6rEDBFYkhRz"
      },
      "outputs": [],
      "source": [
        "all.to_csv('/content/drive/MyDrive/Gabinete/Relatório/Results/resultadoQReg19-Publicas-Urbanas.csv')\n",
        "meta.to_csv('/content/drive/MyDrive/Gabinete/Relatório/Results/metaQReg19-Publicas-Urbanas.csv')\n"
      ]
    }
  ],
  "metadata": {
    "colab": {
      "collapsed_sections": [],
      "provenance": []
    },
    "kernelspec": {
      "display_name": "Python 3.7.13 ('conectividade')",
      "language": "python",
      "name": "python3"
    },
    "language_info": {
      "codemirror_mode": {
        "name": "ipython",
        "version": 3
      },
      "file_extension": ".py",
      "mimetype": "text/x-python",
      "name": "python",
      "nbconvert_exporter": "python",
      "pygments_lexer": "ipython3",
      "version": "3.7.13"
    },
    "vscode": {
      "interpreter": {
        "hash": "ead2bc48f7ab527eb158ebb40ab98ccf55ac88fae5b7e7e4761773349cd82b94"
      }
    }
  },
  "nbformat": 4,
  "nbformat_minor": 0
}
