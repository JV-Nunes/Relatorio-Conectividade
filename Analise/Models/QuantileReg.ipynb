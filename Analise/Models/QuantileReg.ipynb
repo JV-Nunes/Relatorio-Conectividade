{
 "cells": [
  {
   "cell_type": "code",
   "execution_count": 5,
   "metadata": {},
   "outputs": [],
   "source": [
    "import sys\n",
    "import os\n",
    "\n",
    "module_path = os.path.abspath(os.path.join('..'))\n",
    "if module_path not in sys.path:\n",
    "    sys.path.append(module_path+\"/Utils\")\n"
   ]
  },
  {
   "cell_type": "code",
   "execution_count": 6,
   "metadata": {},
   "outputs": [],
   "source": [
    "import gc\n",
    "import numpy as np\n",
    "import pandas as pd\n",
    "import statsmodels.api as sm\n",
    "import statsmodels.formula.api as smf\n",
    "from statsmodels.regression.quantile_regression import QuantReg\n",
    "import matplotlib.pyplot as plt"
   ]
  },
  {
   "cell_type": "code",
   "execution_count": 7,
   "metadata": {},
   "outputs": [],
   "source": [
    "from funs import *\n",
    "from cols_list import cols_enem"
   ]
  },
  {
   "cell_type": "markdown",
   "metadata": {},
   "source": [
    "## Carregando dataset filtrado"
   ]
  },
  {
   "cell_type": "code",
   "execution_count": 8,
   "metadata": {},
   "outputs": [
    {
     "name": "stdout",
     "output_type": "stream",
     "text": [
      "Tamanho do dataset pré-filtragem:  5095171\n",
      "Tamanho do dataset pós-filtragem:  1604459\n",
      "Taxa de filtragem:  0.6851020309230054\n",
      "Tamanho do dataset pré-filtragem:  5783109\n",
      "Tamanho do dataset pós-filtragem:  1254237\n",
      "Taxa de filtragem:  0.7831206363220891\n",
      "Tamanho do dataset pré-filtragem:  2685053\n",
      "Tamanho do dataset pós-filtragem:  950911\n",
      "Taxa de filtragem:  0.6458501936460844\n"
     ]
    }
   ],
   "source": [
    "enem_trienio = load_trienio_enem(cols_enem)"
   ]
  },
  {
   "cell_type": "code",
   "execution_count": 9,
   "metadata": {},
   "outputs": [],
   "source": [
    "enem_trienio['Q025'] = enem_trienio['Q025'].replace(['A','B'],[0,1])"
   ]
  },
  {
   "cell_type": "code",
   "execution_count": 10,
   "metadata": {},
   "outputs": [],
   "source": [
    "enem19 = enem_trienio[enem_trienio['NU_ANO']==2019]\n",
    "enem19 = enem19.compute()"
   ]
  },
  {
   "cell_type": "code",
   "execution_count": 11,
   "metadata": {},
   "outputs": [
    {
     "data": {
      "text/plain": [
       "0"
      ]
     },
     "execution_count": 11,
     "metadata": {},
     "output_type": "execute_result"
    }
   ],
   "source": [
    "gc.collect()"
   ]
  },
  {
   "cell_type": "code",
   "execution_count": 12,
   "metadata": {},
   "outputs": [],
   "source": [
    "enem19['NT_MEDIA'] = enem19.apply(lambda row: get_medium_score(row), axis=1)"
   ]
  },
  {
   "cell_type": "code",
   "execution_count": 14,
   "metadata": {},
   "outputs": [
    {
     "name": "stderr",
     "output_type": "stream",
     "text": [
      "/home/joao/anaconda3/envs/scraping/lib/python3.9/site-packages/pandas/core/arraylike.py:397: RuntimeWarning: divide by zero encountered in log\n",
      "  result = getattr(ufunc, method)(*inputs, **kwargs)\n",
      "/home/joao/anaconda3/envs/scraping/lib/python3.9/site-packages/pandas/core/arraylike.py:397: RuntimeWarning: divide by zero encountered in log\n",
      "  result = getattr(ufunc, method)(*inputs, **kwargs)\n"
     ]
    }
   ],
   "source": [
    "enem19['LOG_NT_MEDIA'] = np.log(enem19['NT_MEDIA'])\n",
    "enem19['LOG_NT_MT'] = np.log(enem19['NU_NOTA_MT'])"
   ]
  },
  {
   "cell_type": "code",
   "execution_count": 15,
   "metadata": {},
   "outputs": [],
   "source": [
    "# Droping nan values from LOG_NT_MEDIA and LOG_NT_MT\n",
    "enem19 = enem19.dropna(subset=['LOG_NT_MT'])"
   ]
  },
  {
   "cell_type": "code",
   "execution_count": 16,
   "metadata": {},
   "outputs": [],
   "source": [
    "mt_x_int = enem19[['LOG_NT_MT','Q025']]\n",
    "mt_x_int = sm.add_constant(mt_x_int)\n",
    "mt_x_int['Q025'] = mt_x_int['Q025'].astype(float)\n"
   ]
  },
  {
   "cell_type": "code",
   "execution_count": 48,
   "metadata": {},
   "outputs": [],
   "source": [
    "test = clean_dataset(mt_x_int)"
   ]
  },
  {
   "cell_type": "markdown",
   "metadata": {},
   "source": [
    "## Abordagem por Statsmodels"
   ]
  },
  {
   "cell_type": "markdown",
   "metadata": {},
   "source": [
    "Regressão Quantílica Simples"
   ]
  },
  {
   "cell_type": "code",
   "execution_count": 81,
   "metadata": {},
   "outputs": [],
   "source": [
    "def fit_model(q):\n",
    "    res = mod.fit(\n",
    "        q=q, \n",
    "        vcov='robust',\n",
    "        kernel='epa',\n",
    "        bandwidth='hsheather', \n",
    "        max_iter=1000,\n",
    "        p_tol=1e-06\n",
    "    )\n",
    "\n",
    "    return [q, res.params[\"Intercept\"], res.params[\"Q025\"]] + res.conf_int().loc[\n",
    "        \"Q025\"\n",
    "    ].tolist()\n"
   ]
  },
  {
   "cell_type": "code",
   "execution_count": 82,
   "metadata": {},
   "outputs": [],
   "source": [
    "mod = smf.quantreg('LOG_NT_MT ~ Q025', data=test, missing='drop')"
   ]
  },
  {
   "cell_type": "code",
   "execution_count": 83,
   "metadata": {},
   "outputs": [],
   "source": [
    "quantiles = np.arange(0.05, 0.96, 0.1)\n",
    "\n",
    "models = [fit_model(x) for x in quantiles]"
   ]
  },
  {
   "cell_type": "code",
   "execution_count": 90,
   "metadata": {},
   "outputs": [],
   "source": [
    "models = pd.DataFrame(models, columns=[\"q\", \"intercept\", \"B\", \"lowerbound\", \"upperbound\"])"
   ]
  },
  {
   "cell_type": "code",
   "execution_count": 119,
   "metadata": {},
   "outputs": [],
   "source": [
    "# OLS para comparação\n",
    "ols = smf.ols(\"LOG_NT_MT ~ Q025\", data=test, missing='drop').fit()\n",
    "ols_ci = ols.conf_int().loc[\"Q025\"].tolist()\n",
    "ols = dict(\n",
    "    a=ols.params[\"Intercept\"], b=ols.params[\"Q025\"], lb=ols_ci[0], ub=ols_ci[1]\n",
    ")"
   ]
  },
  {
   "cell_type": "markdown",
   "metadata": {},
   "source": [
    "### Visualizando modelo"
   ]
  },
  {
   "cell_type": "code",
   "execution_count": 126,
   "metadata": {},
   "outputs": [
    {
     "data": {
      "text/html": [
       "<div>\n",
       "<style scoped>\n",
       "    .dataframe tbody tr th:only-of-type {\n",
       "        vertical-align: middle;\n",
       "    }\n",
       "\n",
       "    .dataframe tbody tr th {\n",
       "        vertical-align: top;\n",
       "    }\n",
       "\n",
       "    .dataframe thead th {\n",
       "        text-align: right;\n",
       "    }\n",
       "</style>\n",
       "<table border=\"1\" class=\"dataframe\">\n",
       "  <thead>\n",
       "    <tr style=\"text-align: right;\">\n",
       "      <th></th>\n",
       "      <th>q</th>\n",
       "      <th>intercept</th>\n",
       "      <th>B</th>\n",
       "      <th>lowerbound</th>\n",
       "      <th>upperbound</th>\n",
       "    </tr>\n",
       "  </thead>\n",
       "  <tbody>\n",
       "    <tr>\n",
       "      <th>0</th>\n",
       "      <td>0.05</td>\n",
       "      <td>5.930918</td>\n",
       "      <td>0.034718</td>\n",
       "      <td>0.033843</td>\n",
       "      <td>0.035592</td>\n",
       "    </tr>\n",
       "    <tr>\n",
       "      <th>1</th>\n",
       "      <td>0.15</td>\n",
       "      <td>5.989963</td>\n",
       "      <td>0.052909</td>\n",
       "      <td>0.052022</td>\n",
       "      <td>0.053796</td>\n",
       "    </tr>\n",
       "    <tr>\n",
       "      <th>2</th>\n",
       "      <td>0.25</td>\n",
       "      <td>6.031646</td>\n",
       "      <td>0.073817</td>\n",
       "      <td>0.072858</td>\n",
       "      <td>0.074776</td>\n",
       "    </tr>\n",
       "    <tr>\n",
       "      <th>3</th>\n",
       "      <td>0.35</td>\n",
       "      <td>6.072122</td>\n",
       "      <td>0.092035</td>\n",
       "      <td>0.090986</td>\n",
       "      <td>0.093084</td>\n",
       "    </tr>\n",
       "    <tr>\n",
       "      <th>4</th>\n",
       "      <td>0.45</td>\n",
       "      <td>6.111689</td>\n",
       "      <td>0.112672</td>\n",
       "      <td>0.111537</td>\n",
       "      <td>0.113806</td>\n",
       "    </tr>\n",
       "    <tr>\n",
       "      <th>5</th>\n",
       "      <td>0.55</td>\n",
       "      <td>6.154216</td>\n",
       "      <td>0.134014</td>\n",
       "      <td>0.132788</td>\n",
       "      <td>0.135240</td>\n",
       "    </tr>\n",
       "    <tr>\n",
       "      <th>6</th>\n",
       "      <td>0.65</td>\n",
       "      <td>6.201522</td>\n",
       "      <td>0.153890</td>\n",
       "      <td>0.152642</td>\n",
       "      <td>0.155137</td>\n",
       "    </tr>\n",
       "    <tr>\n",
       "      <th>7</th>\n",
       "      <td>0.75</td>\n",
       "      <td>6.258627</td>\n",
       "      <td>0.165106</td>\n",
       "      <td>0.163899</td>\n",
       "      <td>0.166314</td>\n",
       "    </tr>\n",
       "    <tr>\n",
       "      <th>8</th>\n",
       "      <td>0.85</td>\n",
       "      <td>6.333812</td>\n",
       "      <td>0.162661</td>\n",
       "      <td>0.161474</td>\n",
       "      <td>0.163849</td>\n",
       "    </tr>\n",
       "    <tr>\n",
       "      <th>9</th>\n",
       "      <td>0.95</td>\n",
       "      <td>6.451572</td>\n",
       "      <td>0.150066</td>\n",
       "      <td>0.148624</td>\n",
       "      <td>0.151507</td>\n",
       "    </tr>\n",
       "  </tbody>\n",
       "</table>\n",
       "</div>"
      ],
      "text/plain": [
       "      q  intercept         B  lowerbound  upperbound\n",
       "0  0.05   5.930918  0.034718    0.033843    0.035592\n",
       "1  0.15   5.989963  0.052909    0.052022    0.053796\n",
       "2  0.25   6.031646  0.073817    0.072858    0.074776\n",
       "3  0.35   6.072122  0.092035    0.090986    0.093084\n",
       "4  0.45   6.111689  0.112672    0.111537    0.113806\n",
       "5  0.55   6.154216  0.134014    0.132788    0.135240\n",
       "6  0.65   6.201522  0.153890    0.152642    0.155137\n",
       "7  0.75   6.258627  0.165106    0.163899    0.166314\n",
       "8  0.85   6.333812  0.162661    0.161474    0.163849\n",
       "9  0.95   6.451572  0.150066    0.148624    0.151507"
      ]
     },
     "execution_count": 126,
     "metadata": {},
     "output_type": "execute_result"
    }
   ],
   "source": [
    "models"
   ]
  },
  {
   "cell_type": "code",
   "execution_count": 125,
   "metadata": {},
   "outputs": [
    {
     "data": {
      "image/png": "[encoded data removed]",
      "text/plain": [
       "<Figure size 720x432 with 1 Axes>"
      ]
     },
     "metadata": {
      "needs_background": "light"
     },
     "output_type": "display_data"
    }
   ],
   "source": [
    "plt.figure(figsize=(10, 6))\n",
    "n = models.shape[0]\n",
    "p1 = plt.plot(models.q, models.B, color=\"black\", label=\"Quantile Reg.\")\n",
    "p2 = plt.plot(models.q, models.upperbound, linestyle=\"dotted\", color=\"black\")\n",
    "p3 = plt.plot(models.q, models.lowerbound, linestyle=\"dotted\", color=\"black\")\n",
    "p4 = plt.plot(models.q, [ols[\"b\"]] * n, color=\"red\", label=\"OLS\")\n",
    "#p5 = plt.plot(models.q, [ols[\"lb\"]] * n, linestyle=\"dotted\", color=\"red\")\n",
    "#p6 = plt.plot(models.q, [ols[\"ub\"]] * n, linestyle=\"dotted\", color=\"red\")\n",
    "plt.ylabel(r\"$\\beta_{income}$\")\n",
    "plt.xlabel(\"Quantis de LOG Nota Matemática\")\n",
    "plt.legend()\n",
    "plt.show()"
   ]
  },
  {
   "cell_type": "markdown",
   "metadata": {},
   "source": [
    "Regressão Quantílica Múltipla"
   ]
  },
  {
   "cell_type": "code",
   "execution_count": null,
   "metadata": {},
   "outputs": [],
   "source": []
  },
  {
   "cell_type": "code",
   "execution_count": 128,
   "metadata": {},
   "outputs": [
    {
     "data": {
      "text/plain": [
       "Index(['NU_ANO', 'TP_FAIXA_ETARIA', 'TP_SEXO', 'TP_ESTADO_CIVIL',\n",
       "       'TP_COR_RACA', 'TP_ESCOLA', 'CO_MUNICIPIO_ESC', 'NO_MUNICIPIO_ESC',\n",
       "       'SG_UF_ESC', 'TP_DEPENDENCIA_ADM_ESC', 'TP_LOCALIZACAO_ESC',\n",
       "       'TP_SIT_FUNC_ESC', 'NU_NOTA_CN', 'NU_NOTA_CH', 'NU_NOTA_LC',\n",
       "       'NU_NOTA_MT', 'TP_STATUS_REDACAO', 'NU_NOTA_COMP1', 'NU_NOTA_COMP2',\n",
       "       'NU_NOTA_COMP3', 'NU_NOTA_COMP4', 'NU_NOTA_COMP5', 'NU_NOTA_REDACAO',\n",
       "       'Q001', 'Q002', 'Q003', 'Q004', 'Q005', 'Q006', 'Q007', 'Q008', 'Q009',\n",
       "       'Q010', 'Q012', 'Q019', 'Q022', 'Q024', 'Q025', 'NT_MEDIA',\n",
       "       'LOG_NT_MEDIA', 'LOG_NT_MT'],\n",
       "      dtype='object')"
      ]
     },
     "execution_count": 128,
     "metadata": {},
     "output_type": "execute_result"
    }
   ],
   "source": [
    "enem19.columns"
   ]
  }
 ],
 "metadata": {
  "kernelspec": {
   "display_name": "Python 3.9.13 ('scraping')",
   "language": "python",
   "name": "python3"
  },
  "language_info": {
   "codemirror_mode": {
    "name": "ipython",
    "version": 3
   },
   "file_extension": ".py",
   "mimetype": "text/x-python",
   "name": "python",
   "nbconvert_exporter": "python",
   "pygments_lexer": "ipython3",
   "version": "3.9.13"
  },
  "orig_nbformat": 4,
  "vscode": {
   "interpreter": {
    "hash": "0b57a106df503026757037a3564c5b06bb9bd0ebd4985fd2fe126eeda7bdee66"
   }
  }
 },
 "nbformat": 4,
 "nbformat_minor": 2
}
